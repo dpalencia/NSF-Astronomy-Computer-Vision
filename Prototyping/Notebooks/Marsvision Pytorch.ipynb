{
 "cells": [
  {
   "cell_type": "code",
   "execution_count": 1,
   "id": "attended-relation",
   "metadata": {},
   "outputs": [],
   "source": [
    "# Testing / Demonstrating the use of marsvision modules to train a model"
   ]
  },
  {
   "cell_type": "code",
   "execution_count": 2,
   "id": "abandoned-strap",
   "metadata": {},
   "outputs": [
    {
     "name": "stderr",
     "output_type": "stream",
     "text": [
      "c:\\users\\dpale\\desktop\\projects\\marsvision\\marsvision\\vision\\ModelDefinitions.py:7: YAMLLoadWarning: calling yaml.load() without Loader=... is deprecated, as the default Loader is unsafe. Please read https://msg.pyyaml.org/load for full details.\n",
      "  config = yaml.load(yaml_cfg)\n"
     ]
    }
   ],
   "source": [
    "from marsvision.pipeline import Model\n",
    "from marsvision.vision import ModelDefinitions"
   ]
  },
  {
   "cell_type": "code",
   "execution_count": 3,
   "id": "geographic-settlement",
   "metadata": {},
   "outputs": [
    {
     "name": "stderr",
     "output_type": "stream",
     "text": [
      "Using cache found in C:\\Users\\dpale/.cache\\torch\\hub\\pytorch_vision_v0.6.0\n",
      "c:\\users\\dpale\\desktop\\projects\\marsvision\\marsvision\\pipeline\\Model.py:54: YAMLLoadWarning: calling yaml.load() without Loader=... is deprecated, as the default Loader is unsafe. Please read https://msg.pyyaml.org/load for full details.\n",
      "  self.config = yaml.load(yaml_cfg)\n"
     ]
    }
   ],
   "source": [
    "import torch\n",
    "alex_model = ModelDefinitions.alexnet_grayscale()\n",
    "model = Model(alex_model, \"pytorch\", \n",
    "              dataset_root_directory=r\"X:\\hirise-map-proj\"\n",
    "             )"
   ]
  },
  {
   "cell_type": "code",
   "execution_count": 3,
   "id": "vulnerable-whole",
   "metadata": {},
   "outputs": [
    {
     "name": "stderr",
     "output_type": "stream",
     "text": [
      "Using cache found in C:\\Users\\dpale/.cache\\torch\\hub\\pytorch_vision_v0.6.0\n",
      "c:\\users\\dpale\\desktop\\projects\\marsvision\\marsvision\\pipeline\\Model.py:53: YAMLLoadWarning: calling yaml.load() without Loader=... is deprecated, as the default Loader is unsafe. Please read https://msg.pyyaml.org/load for full details.\n",
      "  self.config = yaml.load(yaml_cfg)\n"
     ]
    }
   ],
   "source": [
    "import torch\n",
    "alex_model = ModelDefinitions.alexnet()\n",
    "model = Model(alex_model, \"pytorch\", \n",
    "              dataset_root_directory=r\"X:\\hirise-map-proj-half\"\n",
    "             )\n"
   ]
  },
  {
   "cell_type": "code",
   "execution_count": 3,
   "id": "filled-internship",
   "metadata": {},
   "outputs": [
    {
     "name": "stderr",
     "output_type": "stream",
     "text": [
      "Using cache found in C:\\Users\\dpale/.cache\\torch\\hub\\pytorch_vision_v0.6.0\n",
      "c:\\users\\dpale\\desktop\\projects\\marsvision\\marsvision\\pipeline\\Model.py:54: YAMLLoadWarning: calling yaml.load() without Loader=... is deprecated, as the default Loader is unsafe. Please read https://msg.pyyaml.org/load for full details.\n",
      "  self.config = yaml.load(yaml_cfg)\n"
     ]
    }
   ],
   "source": [
    "import torch\n",
    "alex_model = ModelDefinitions.alexnet_grayscale()\n",
    "model = Model(alex_model, \"pytorch\", \n",
    "              dataset_root_directory=r\"C:\\Users\\dpale\\Desktop\\Projects\\marsvision\\test\\deep_mars_test_data\"\n",
    "             )\n"
   ]
  },
  {
   "cell_type": "code",
   "execution_count": 4,
   "id": "sixth-hunter",
   "metadata": {},
   "outputs": [
    {
     "name": "stdout",
     "output_type": "stream",
     "text": [
      "Epoch: 0/4\n",
      "----------\n",
      "train loss: 1.9935 Acc: 0.2353 | Images trained on: 17\n"
     ]
    },
    {
     "name": "stderr",
     "output_type": "stream",
     "text": [
      "c:\\users\\dpale\\desktop\\projects\\marsvision\\marsvision\\pipeline\\Model.py:481: UserWarning: Implicit dimension choice for softmax has been deprecated. Change the call to include dim=X as an argument.\n",
      "  scores = torch.nn.functional.softmax(scores)\n"
     ]
    },
    {
     "name": "stdout",
     "output_type": "stream",
     "text": [
      "test loss: 1.8679 Acc: 0.4000 | Images trained on: 5\n",
      "Epoch: 1/4\n",
      "----------\n",
      "train loss: 1.8401 Acc: 0.4118 | Images trained on: 17\n",
      "test loss: 1.6285 Acc: 0.4000 | Images trained on: 5\n",
      "Epoch: 2/4\n",
      "----------\n",
      "train loss: 1.6222 Acc: 0.4706 | Images trained on: 17\n",
      "test loss: 1.3969 Acc: 0.4000 | Images trained on: 5\n",
      "Epoch: 3/4\n",
      "----------\n",
      "train loss: 1.3273 Acc: 0.7059 | Images trained on: 17\n",
      "test loss: 1.2357 Acc: 0.4000 | Images trained on: 5\n",
      "Epoch: 4/4\n",
      "----------\n",
      "train loss: 1.2532 Acc: 0.4706 | Images trained on: 17\n",
      "test loss: 1.1500 Acc: 0.4000 | Images trained on: 5\n",
      "Best Epoch Acc: 0.4000\n"
     ]
    }
   ],
   "source": [
    "test_results = model.train_and_test_pytorchcnn()"
   ]
  },
  {
   "cell_type": "code",
   "execution_count": 5,
   "id": "representative-moment",
   "metadata": {},
   "outputs": [
    {
     "data": {
      "text/plain": [
       "[{'predicted_labels': [[2, 4, 4, 4],\n",
       "   [1],\n",
       "   [4, 4, 4, 4],\n",
       "   [4],\n",
       "   [0, 0, 0, 0],\n",
       "   [0],\n",
       "   [0, 0, 0, 0],\n",
       "   [0],\n",
       "   [0, 0, 0, 0],\n",
       "   [0]],\n",
       "  'prediction_probabilities': [[0.22724570333957672,\n",
       "    0.2831430733203888,\n",
       "    0.2318912148475647,\n",
       "    0.25772005319595337],\n",
       "   [1.0],\n",
       "   [0.23568260669708252,\n",
       "    0.26607653498649597,\n",
       "    0.24226891994476318,\n",
       "    0.2559719383716583],\n",
       "   [1.0],\n",
       "   [0.26198866963386536,\n",
       "    0.27079546451568604,\n",
       "    0.253846138715744,\n",
       "    0.2133697122335434],\n",
       "   [1.0],\n",
       "   [0.25840258598327637,\n",
       "    0.20162926614284515,\n",
       "    0.2804981470108032,\n",
       "    0.2594699561595917],\n",
       "   [1.0],\n",
       "   [0.1833501160144806,\n",
       "    0.26783257722854614,\n",
       "    0.29306715726852417,\n",
       "    0.2557501196861267],\n",
       "   [1.0]],\n",
       "  'ground_truth_labels': [[6, 0, 4, 4],\n",
       "   [0],\n",
       "   [4, 0, 0, 4],\n",
       "   [6],\n",
       "   [0, 4, 4, 6],\n",
       "   [0],\n",
       "   [4, 6, 4, 0],\n",
       "   [0],\n",
       "   [6, 0, 4, 0],\n",
       "   [4]]},\n",
       " {'predicted_labels': [[2, 4, 4, 4],\n",
       "   [1],\n",
       "   [4, 4, 4, 4],\n",
       "   [4],\n",
       "   [0, 0, 0, 0],\n",
       "   [0],\n",
       "   [0, 0, 0, 0],\n",
       "   [0],\n",
       "   [0, 0, 0, 0],\n",
       "   [0]],\n",
       "  'prediction_probabilities': [[0.22724570333957672,\n",
       "    0.2831430733203888,\n",
       "    0.2318912148475647,\n",
       "    0.25772005319595337],\n",
       "   [1.0],\n",
       "   [0.23568260669708252,\n",
       "    0.26607653498649597,\n",
       "    0.24226891994476318,\n",
       "    0.2559719383716583],\n",
       "   [1.0],\n",
       "   [0.26198866963386536,\n",
       "    0.27079546451568604,\n",
       "    0.253846138715744,\n",
       "    0.2133697122335434],\n",
       "   [1.0],\n",
       "   [0.25840258598327637,\n",
       "    0.20162926614284515,\n",
       "    0.2804981470108032,\n",
       "    0.2594699561595917],\n",
       "   [1.0],\n",
       "   [0.1833501160144806,\n",
       "    0.26783257722854614,\n",
       "    0.29306715726852417,\n",
       "    0.2557501196861267],\n",
       "   [1.0]],\n",
       "  'ground_truth_labels': [[6, 0, 4, 4],\n",
       "   [0],\n",
       "   [4, 0, 0, 4],\n",
       "   [6],\n",
       "   [0, 4, 4, 6],\n",
       "   [0],\n",
       "   [4, 6, 4, 0],\n",
       "   [0],\n",
       "   [6, 0, 4, 0],\n",
       "   [4]]},\n",
       " {'predicted_labels': [[2, 4, 4, 4],\n",
       "   [1],\n",
       "   [4, 4, 4, 4],\n",
       "   [4],\n",
       "   [0, 0, 0, 0],\n",
       "   [0],\n",
       "   [0, 0, 0, 0],\n",
       "   [0],\n",
       "   [0, 0, 0, 0],\n",
       "   [0]],\n",
       "  'prediction_probabilities': [[0.22724570333957672,\n",
       "    0.2831430733203888,\n",
       "    0.2318912148475647,\n",
       "    0.25772005319595337],\n",
       "   [1.0],\n",
       "   [0.23568260669708252,\n",
       "    0.26607653498649597,\n",
       "    0.24226891994476318,\n",
       "    0.2559719383716583],\n",
       "   [1.0],\n",
       "   [0.26198866963386536,\n",
       "    0.27079546451568604,\n",
       "    0.253846138715744,\n",
       "    0.2133697122335434],\n",
       "   [1.0],\n",
       "   [0.25840258598327637,\n",
       "    0.20162926614284515,\n",
       "    0.2804981470108032,\n",
       "    0.2594699561595917],\n",
       "   [1.0],\n",
       "   [0.1833501160144806,\n",
       "    0.26783257722854614,\n",
       "    0.29306715726852417,\n",
       "    0.2557501196861267],\n",
       "   [1.0]],\n",
       "  'ground_truth_labels': [[6, 0, 4, 4],\n",
       "   [0],\n",
       "   [4, 0, 0, 4],\n",
       "   [6],\n",
       "   [0, 4, 4, 6],\n",
       "   [0],\n",
       "   [4, 6, 4, 0],\n",
       "   [0],\n",
       "   [6, 0, 4, 0],\n",
       "   [4]]},\n",
       " {'predicted_labels': [[2, 4, 4, 4],\n",
       "   [1],\n",
       "   [4, 4, 4, 4],\n",
       "   [4],\n",
       "   [0, 0, 0, 0],\n",
       "   [0],\n",
       "   [0, 0, 0, 0],\n",
       "   [0],\n",
       "   [0, 0, 0, 0],\n",
       "   [0]],\n",
       "  'prediction_probabilities': [[0.22724570333957672,\n",
       "    0.2831430733203888,\n",
       "    0.2318912148475647,\n",
       "    0.25772005319595337],\n",
       "   [1.0],\n",
       "   [0.23568260669708252,\n",
       "    0.26607653498649597,\n",
       "    0.24226891994476318,\n",
       "    0.2559719383716583],\n",
       "   [1.0],\n",
       "   [0.26198866963386536,\n",
       "    0.27079546451568604,\n",
       "    0.253846138715744,\n",
       "    0.2133697122335434],\n",
       "   [1.0],\n",
       "   [0.25840258598327637,\n",
       "    0.20162926614284515,\n",
       "    0.2804981470108032,\n",
       "    0.2594699561595917],\n",
       "   [1.0],\n",
       "   [0.1833501160144806,\n",
       "    0.26783257722854614,\n",
       "    0.29306715726852417,\n",
       "    0.2557501196861267],\n",
       "   [1.0]],\n",
       "  'ground_truth_labels': [[6, 0, 4, 4],\n",
       "   [0],\n",
       "   [4, 0, 0, 4],\n",
       "   [6],\n",
       "   [0, 4, 4, 6],\n",
       "   [0],\n",
       "   [4, 6, 4, 0],\n",
       "   [0],\n",
       "   [6, 0, 4, 0],\n",
       "   [4]]},\n",
       " {'predicted_labels': [[2, 4, 4, 4],\n",
       "   [1],\n",
       "   [4, 4, 4, 4],\n",
       "   [4],\n",
       "   [0, 0, 0, 0],\n",
       "   [0],\n",
       "   [0, 0, 0, 0],\n",
       "   [0],\n",
       "   [0, 0, 0, 0],\n",
       "   [0]],\n",
       "  'prediction_probabilities': [[0.22724570333957672,\n",
       "    0.2831430733203888,\n",
       "    0.2318912148475647,\n",
       "    0.25772005319595337],\n",
       "   [1.0],\n",
       "   [0.23568260669708252,\n",
       "    0.26607653498649597,\n",
       "    0.24226891994476318,\n",
       "    0.2559719383716583],\n",
       "   [1.0],\n",
       "   [0.26198866963386536,\n",
       "    0.27079546451568604,\n",
       "    0.253846138715744,\n",
       "    0.2133697122335434],\n",
       "   [1.0],\n",
       "   [0.25840258598327637,\n",
       "    0.20162926614284515,\n",
       "    0.2804981470108032,\n",
       "    0.2594699561595917],\n",
       "   [1.0],\n",
       "   [0.1833501160144806,\n",
       "    0.26783257722854614,\n",
       "    0.29306715726852417,\n",
       "    0.2557501196861267],\n",
       "   [1.0]],\n",
       "  'ground_truth_labels': [[6, 0, 4, 4],\n",
       "   [0],\n",
       "   [4, 0, 0, 4],\n",
       "   [6],\n",
       "   [0, 4, 4, 6],\n",
       "   [0],\n",
       "   [4, 6, 4, 0],\n",
       "   [0],\n",
       "   [6, 0, 4, 0],\n",
       "   [4]]}]"
      ]
     },
     "execution_count": 5,
     "metadata": {},
     "output_type": "execute_result"
    }
   ],
   "source": [
    "test_results"
   ]
  },
  {
   "cell_type": "code",
   "execution_count": 10,
   "id": "german-stick",
   "metadata": {},
   "outputs": [
    {
     "data": {
      "text/plain": [
       "[[2, 4, 4, 4],\n",
       " [1],\n",
       " [4, 4, 4, 4],\n",
       " [4],\n",
       " [0, 0, 0, 0],\n",
       " [0],\n",
       " [0, 0, 0, 0],\n",
       " [0],\n",
       " [0, 0, 0, 0],\n",
       " [0]]"
      ]
     },
     "execution_count": 10,
     "metadata": {},
     "output_type": "execute_result"
    }
   ],
   "source": [
    "test_results[2][\"predicted_labels\"]"
   ]
  },
  {
   "cell_type": "code",
   "execution_count": 9,
   "id": "operating-morocco",
   "metadata": {},
   "outputs": [],
   "source": [
    "model.save_model(\"alexnet3-16.pt\")"
   ]
  },
  {
   "cell_type": "code",
   "execution_count": 5,
   "id": "initial-columbia",
   "metadata": {},
   "outputs": [
    {
     "name": "stderr",
     "output_type": "stream",
     "text": [
      "c:\\users\\dpale\\desktop\\projects\\marsvision\\marsvision\\pipeline\\Model.py:54: YAMLLoadWarning: calling yaml.load() without Loader=... is deprecated, as the default Loader is unsafe. Please read https://msg.pyyaml.org/load for full details.\n",
      "  self.config = yaml.load(yaml_cfg)\n"
     ]
    }
   ],
   "source": [
    "model = Model(\"alexnet3-16.pt\", \"pytorch\")"
   ]
  },
  {
   "cell_type": "code",
   "execution_count": 6,
   "id": "yellow-chapel",
   "metadata": {},
   "outputs": [],
   "source": [
    "from marsvision.utilities import DataUtility\n",
    "data_utility = DataUtility(r\"C:\\Users\\dpale\\Desktop\\Projects\\marsvision\\test\\deep_mars_test_data\\map-proj\")\n",
    "data_utility.data_reader()"
   ]
  },
  {
   "cell_type": "code",
   "execution_count": 7,
   "id": "taken-housing",
   "metadata": {},
   "outputs": [],
   "source": [
    "output = model.predict(data_utility.images)"
   ]
  },
  {
   "cell_type": "code",
   "execution_count": 8,
   "id": "preceding-annual",
   "metadata": {},
   "outputs": [
    {
     "data": {
      "text/plain": [
       "[6, 0, 0, 0, 6, 6, 6, 6, 0, 4, 0, 0, 0, 0, 4, 4, 4, 4, 4, 4, 6, 4]"
      ]
     },
     "execution_count": 8,
     "metadata": {},
     "output_type": "execute_result"
    }
   ],
   "source": [
    "output"
   ]
  },
  {
   "cell_type": "code",
   "execution_count": 4,
   "id": "revised-pantyhose",
   "metadata": {},
   "outputs": [],
   "source": [
    "from marsvision.vision import DeepMarsDataset\n",
    "dataset = DeepMarsDataset(r\"X:\\hirise-map-proj\")"
   ]
  },
  {
   "cell_type": "code",
   "execution_count": 9,
   "id": "plastic-regard",
   "metadata": {},
   "outputs": [],
   "source": [
    "import numpy as np\n",
    "from sklearn.metrics import multilabel_confusion_matrix\n",
    "y_true = [0, 1, 0, 1, 2, 3, 0]\n",
    "y_pred = [0, 0, 1, 2, 2, 3, 1]"
   ]
  },
  {
   "cell_type": "code",
   "execution_count": 12,
   "id": "assigned-rental",
   "metadata": {},
   "outputs": [
    {
     "data": {
      "text/plain": [
       "array([[[3, 1],\n",
       "        [2, 1]],\n",
       "\n",
       "       [[3, 2],\n",
       "        [2, 0]],\n",
       "\n",
       "       [[5, 1],\n",
       "        [0, 1]],\n",
       "\n",
       "       [[6, 0],\n",
       "        [0, 1]]], dtype=int64)"
      ]
     },
     "execution_count": 12,
     "metadata": {},
     "output_type": "execute_result"
    }
   ],
   "source": [
    "confusion = multilabel_confusion_matrix(y_true, y_pred,\n",
    "                            labels=[0, 1, 2, 3])\n",
    "confusion"
   ]
  },
  {
   "cell_type": "code",
   "execution_count": 8,
   "id": "growing-atmosphere",
   "metadata": {
    "scrolled": true
   },
   "outputs": [
    {
     "name": "stdout",
     "output_type": "stream",
     "text": [
      "Epoch: 0/4\n",
      "----------\n",
      "3056\n",
      "train loss: 0.9484 Acc: 0.6718 | Images trained on: 3056\n",
      "191\n",
      "val loss: 0.6565 Acc: 0.8010 | Images trained on: 191\n",
      "Epoch: 1/4\n",
      "----------\n",
      "3056\n",
      "train loss: 0.6532 Acc: 0.7611 | Images trained on: 3056\n",
      "191\n",
      "val loss: 0.5242 Acc: 0.7749 | Images trained on: 191\n",
      "Epoch: 2/4\n",
      "----------\n",
      "3056\n",
      "train loss: 0.5137 Acc: 0.8115 | Images trained on: 3056\n",
      "191\n",
      "val loss: 0.4324 Acc: 0.8220 | Images trained on: 191\n",
      "Epoch: 3/4\n",
      "----------\n",
      "3056\n",
      "train loss: 0.4271 Acc: 0.8433 | Images trained on: 3056\n",
      "191\n",
      "val loss: 0.3291 Acc: 0.8639 | Images trained on: 191\n",
      "Epoch: 4/4\n",
      "----------\n",
      "3056\n",
      "train loss: 0.3687 Acc: 0.8642 | Images trained on: 3056\n",
      "191\n",
      "val loss: 0.2974 Acc: 0.8796 | Images trained on: 191\n",
      "Best Epoch Acc: 0.8796\n"
     ]
    }
   ],
   "source": [
    "model.train_model()"
   ]
  }
 ],
 "metadata": {
  "kernelspec": {
   "display_name": "Python 3",
   "language": "python",
   "name": "python3"
  },
  "language_info": {
   "codemirror_mode": {
    "name": "ipython",
    "version": 3
   },
   "file_extension": ".py",
   "mimetype": "text/x-python",
   "name": "python",
   "nbconvert_exporter": "python",
   "pygments_lexer": "ipython3",
   "version": "3.7.9"
  }
 },
 "nbformat": 4,
 "nbformat_minor": 5
}
