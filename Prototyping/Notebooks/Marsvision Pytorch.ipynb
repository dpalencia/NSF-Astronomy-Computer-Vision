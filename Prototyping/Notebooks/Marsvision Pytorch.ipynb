{
 "cells": [
  {
   "cell_type": "code",
   "execution_count": 1,
   "id": "attended-relation",
   "metadata": {},
   "outputs": [],
   "source": [
    "# Testing / Demonstrating the use of marsvision modules to train a model"
   ]
  },
  {
   "cell_type": "code",
   "execution_count": 2,
   "id": "abandoned-strap",
   "metadata": {},
   "outputs": [
    {
     "name": "stderr",
     "output_type": "stream",
     "text": [
      "c:\\users\\dpale\\desktop\\projects\\marsvision\\marsvision\\vision\\ModelDefinitions.py:7: YAMLLoadWarning: calling yaml.load() without Loader=... is deprecated, as the default Loader is unsafe. Please read https://msg.pyyaml.org/load for full details.\n",
      "  config = yaml.load(yaml_cfg)\n"
     ]
    }
   ],
   "source": [
    "from marsvision.pipeline import Model\n",
    "from marsvision.vision import ModelDefinitions"
   ]
  },
  {
   "cell_type": "code",
   "execution_count": 3,
   "id": "geographic-settlement",
   "metadata": {},
   "outputs": [
    {
     "name": "stderr",
     "output_type": "stream",
     "text": [
      "Using cache found in C:\\Users\\dpale/.cache\\torch\\hub\\pytorch_vision_v0.6.0\n",
      "c:\\users\\dpale\\desktop\\projects\\marsvision\\marsvision\\pipeline\\Model.py:52: YAMLLoadWarning: calling yaml.load() without Loader=... is deprecated, as the default Loader is unsafe. Please read https://msg.pyyaml.org/load for full details.\n",
      "  self.config = yaml.load(yaml_cfg)\n"
     ]
    }
   ],
   "source": [
    "import torch\n",
    "alex_model = ModelDefinitions.alexnet()\n",
    "model = Model(alex_model, \"pytorch\", \n",
    "              dataset_root_directory=r\"C:\\Users\\dpale\\Desktop\\Projects\\marsvision\\test\\deep_mars_test_data\"\n",
    "             )"
   ]
  },
  {
   "cell_type": "code",
   "execution_count": 4,
   "id": "growing-atmosphere",
   "metadata": {},
   "outputs": [
    {
     "name": "stdout",
     "output_type": "stream",
     "text": [
      "Epoch: 0/4\n",
      "----------\n",
      "Running loss: 180.95993041992188 | Running corrects: 0\n",
      "Running loss: 382.79974365234375 | Running corrects: 3\n",
      "Running loss: 704.8335571289062 | Running corrects: 4\n",
      "Running loss: 1113.5341491699219 | Running corrects: 4\n",
      "Running loss: 1113.5341491699219 | Running corrects: 5\n",
      "17\n",
      "train loss: 65.5020 Acc: 0.2941 | Images trained on: 17\n",
      "Running loss: 30.200637817382812 | Running corrects: 0\n",
      "1\n",
      "val loss: 30.2006 Acc: 0.0000 | Images trained on: 1\n",
      "Epoch: 1/4\n",
      "----------\n",
      "Running loss: 21.9053955078125 | Running corrects: 3\n",
      "Running loss: 140.18638610839844 | Running corrects: 4\n",
      "Running loss: 142.86718893051147 | Running corrects: 6\n",
      "Running loss: 143.88945305347443 | Running corrects: 9\n",
      "Running loss: 143.88945305347443 | Running corrects: 10\n",
      "17\n",
      "train loss: 8.4641 Acc: 0.5882 | Images trained on: 17\n",
      "Running loss: 39.75376892089844 | Running corrects: 0\n",
      "1\n",
      "val loss: 39.7538 Acc: 0.0000 | Images trained on: 1\n",
      "Epoch: 2/4\n",
      "----------\n",
      "Running loss: 0.0023347281385213137 | Running corrects: 4\n",
      "Running loss: 57.42268766392954 | Running corrects: 6\n",
      "Running loss: 79.38674558629282 | Running corrects: 8\n",
      "Running loss: 202.915355815785 | Running corrects: 10\n",
      "Running loss: 202.99487353791483 | Running corrects: 11\n",
      "17\n",
      "train loss: 11.9409 Acc: 0.6471 | Images trained on: 17\n",
      "Running loss: 39.75767517089844 | Running corrects: 0\n",
      "1\n",
      "val loss: 39.7577 Acc: 0.0000 | Images trained on: 1\n",
      "Epoch: 3/4\n",
      "----------\n",
      "Running loss: 35.11805725097656 | Running corrects: 3\n",
      "Running loss: 36.905606508255005 | Running corrects: 6\n",
      "Running loss: 41.8458297252655 | Running corrects: 9\n",
      "Running loss: 41.93866541236639 | Running corrects: 13\n",
      "Running loss: 41.93866541236639 | Running corrects: 14\n",
      "17\n",
      "train loss: 2.4670 Acc: 0.8235 | Images trained on: 17\n",
      "Running loss: 39.757659912109375 | Running corrects: 0\n",
      "1\n",
      "val loss: 39.7577 Acc: 0.0000 | Images trained on: 1\n",
      "Epoch: 4/4\n",
      "----------\n",
      "Running loss: 13.837922096252441 | Running corrects: 3\n",
      "Running loss: 42.431336402893066 | Running corrects: 6\n",
      "Running loss: 110.6881799697876 | Running corrects: 9\n",
      "Running loss: 139.48131656646729 | Running corrects: 12\n",
      "Running loss: 157.88787174224854 | Running corrects: 12\n",
      "17\n",
      "train loss: 9.2875 Acc: 0.7059 | Images trained on: 17\n",
      "Running loss: 39.757659912109375 | Running corrects: 0\n",
      "1\n",
      "val loss: 39.7577 Acc: 0.0000 | Images trained on: 1\n",
      "Best Epoch Acc: 0.0000\n"
     ]
    }
   ],
   "source": [
    "model.train_model()"
   ]
  },
  {
   "cell_type": "code",
   "execution_count": 5,
   "id": "yellow-chapel",
   "metadata": {},
   "outputs": [],
   "source": [
    "from marsvision.utilities import DataUtility\n",
    "data_utility = DataUtility(r\"C:\\Users\\dpale\\Desktop\\Projects\\marsvision\\test\\deep_mars_test_data\\map-proj\")\n",
    "data_utility.data_reader()"
   ]
  },
  {
   "cell_type": "code",
   "execution_count": 6,
   "id": "taken-housing",
   "metadata": {},
   "outputs": [],
   "source": [
    "output = model.predict(data_utility.images)"
   ]
  },
  {
   "cell_type": "code",
   "execution_count": 24,
   "id": "visible-privilege",
   "metadata": {},
   "outputs": [],
   "source": [
    "classes = output.argmax(dim=1)"
   ]
  },
  {
   "cell_type": "code",
   "execution_count": 25,
   "id": "white-passion",
   "metadata": {},
   "outputs": [
    {
     "data": {
      "text/plain": [
       "tensor([2, 1, 5, 5, 1, 1, 1, 1, 5, 0, 0, 6, 5, 5, 2, 0, 5, 2, 5, 1, 1, 0])"
      ]
     },
     "execution_count": 25,
     "metadata": {},
     "output_type": "execute_result"
    }
   ],
   "source": [
    "classes"
   ]
  },
  {
   "cell_type": "code",
   "execution_count": null,
   "id": "pediatric-snowboard",
   "metadata": {},
   "outputs": [],
   "source": []
  }
 ],
 "metadata": {
  "kernelspec": {
   "display_name": "Python 3",
   "language": "python",
   "name": "python3"
  },
  "language_info": {
   "codemirror_mode": {
    "name": "ipython",
    "version": 3
   },
   "file_extension": ".py",
   "mimetype": "text/x-python",
   "name": "python",
   "nbconvert_exporter": "python",
   "pygments_lexer": "ipython3",
   "version": "3.7.9"
  }
 },
 "nbformat": 4,
 "nbformat_minor": 5
}
