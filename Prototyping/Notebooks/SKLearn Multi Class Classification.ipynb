{
 "cells": [
  {
   "cell_type": "code",
   "execution_count": 29,
   "id": "addressed-parks",
   "metadata": {},
   "outputs": [],
   "source": [
    "import os\n",
    "# Dataset location\n",
    "# Adjust to point to root of dataset\n",
    "dataset_root = \"X:\\hirise-map-proj\""
   ]
  },
  {
   "cell_type": "code",
   "execution_count": 30,
   "id": "amino-culture",
   "metadata": {},
   "outputs": [],
   "source": [
    "# Dataset: 10.5281/zenodo.1048301\n",
    "from marsvision.utilities import DataUtility\n",
    "data_loader = DataUtility(os.path.join(dataset_root, \"map-proj\"))"
   ]
  },
  {
   "cell_type": "code",
   "execution_count": 31,
   "id": "painted-rabbit",
   "metadata": {},
   "outputs": [],
   "source": [
    "import pandas as pd\n",
    "\n",
    "# Apply the SKLearn pipeline--\n",
    "# Load data, extract features, train a model.\n",
    "data_loader = DataUtility(os.path.join(dataset_root, \"map-proj\"))\n",
    "data_loader.data_reader()\n",
    "data_loader.data_transformer() \n",
    "# The extracted features we're training on should be in data_loader.df\n",
    "data_df = data_loader.df\n",
    "\n",
    "# Shaping dataframe to contain features and class codes\n",
    "lines = pd.read_csv(os.path.join(dataset_root, \"labels-map-proj.txt\"), \n",
    "                    delimiter=\" \",  \n",
    "                    header = None,\n",
    "                   names=[\"file_name\", \"class_code\"])\n",
    "lines = lines.sort_values(by=\"file_name\")\n",
    "\n",
    "df_labelled = lines.join(data_df.set_index(\"file_name\"), \n",
    "                         on=\"file_name\",\n",
    "                         lsuffix=\"_left\",\n",
    "                         rsuffix=\"_right\")\n",
    "df_labelled = df_labelled.drop(labels=[\"class_code_right\", \"class\"], axis=1)\n",
    "df_labelled = df_labelled.rename(columns={\n",
    "    \"file_name\" : \"file_name\", \n",
    "    \"class_code_left\" : \"class_code\"})\n",
    "\n"
   ]
  },
  {
   "cell_type": "code",
   "execution_count": 32,
   "id": "fleet-description",
   "metadata": {},
   "outputs": [
    {
     "output_type": "execute_result",
     "data": {
      "text/plain": [
       "                         file_name  class_code          0             1  \\\n",
       "873   ESP_011283_2265_RED-0032.jpg           0  84.706379  14424.955996   \n",
       "465   ESP_011289_1950_RED-0006.jpg           6   3.266122    822.193554   \n",
       "1815  ESP_011289_1950_RED-0007.jpg           6   5.141668   1284.688541   \n",
       "584   ESP_011289_1950_RED-0009.jpg           6   2.192261    554.220464   \n",
       "1397  ESP_011289_1950_RED-0013.jpg           6   2.810844    708.864470   \n",
       "...                            ...         ...        ...           ...   \n",
       "1377  TRA_000828_1805_RED-0148.jpg           6  15.058802   3613.226956   \n",
       "513   TRA_000828_1805_RED-0149.jpg           6  11.644220   2833.688185   \n",
       "2478  TRA_000828_1805_RED-0152.jpg           0  12.139087   2948.109689   \n",
       "1577  TRA_000828_1805_RED-0154.jpg           0  12.272701   2978.919521   \n",
       "900   TRA_000828_1805_RED-0162.jpg           6   9.882493   2422.372130   \n",
       "\n",
       "             2           3           4            5  \n",
       "873   0.002600  403.657701  102.938210  1758.408455  \n",
       "465  -0.001553   45.913871   78.866910  5354.609701  \n",
       "1815 -0.001397   57.873429   60.246386  4771.687281  \n",
       "584  -0.000272   49.464534   75.727784  5847.890326  \n",
       "1397  0.001979  112.121442   77.699237  5529.686793  \n",
       "...        ...         ...         ...          ...  \n",
       "1377  0.000252   52.019892   71.678802  5660.806630  \n",
       "513  -0.002193   43.480424   85.822217  5167.247265  \n",
       "2478 -0.001669   16.581029  112.054319  1032.092588  \n",
       "1577 -0.007510   35.245009   82.779309  4322.291647  \n",
       "900   0.007258   49.805843   71.907373  4354.583456  \n",
       "\n",
       "[3820 rows x 8 columns]"
      ],
      "text/html": "<div>\n<style scoped>\n    .dataframe tbody tr th:only-of-type {\n        vertical-align: middle;\n    }\n\n    .dataframe tbody tr th {\n        vertical-align: top;\n    }\n\n    .dataframe thead th {\n        text-align: right;\n    }\n</style>\n<table border=\"1\" class=\"dataframe\">\n  <thead>\n    <tr style=\"text-align: right;\">\n      <th></th>\n      <th>file_name</th>\n      <th>class_code</th>\n      <th>0</th>\n      <th>1</th>\n      <th>2</th>\n      <th>3</th>\n      <th>4</th>\n      <th>5</th>\n    </tr>\n  </thead>\n  <tbody>\n    <tr>\n      <th>873</th>\n      <td>ESP_011283_2265_RED-0032.jpg</td>\n      <td>0</td>\n      <td>84.706379</td>\n      <td>14424.955996</td>\n      <td>0.002600</td>\n      <td>403.657701</td>\n      <td>102.938210</td>\n      <td>1758.408455</td>\n    </tr>\n    <tr>\n      <th>465</th>\n      <td>ESP_011289_1950_RED-0006.jpg</td>\n      <td>6</td>\n      <td>3.266122</td>\n      <td>822.193554</td>\n      <td>-0.001553</td>\n      <td>45.913871</td>\n      <td>78.866910</td>\n      <td>5354.609701</td>\n    </tr>\n    <tr>\n      <th>1815</th>\n      <td>ESP_011289_1950_RED-0007.jpg</td>\n      <td>6</td>\n      <td>5.141668</td>\n      <td>1284.688541</td>\n      <td>-0.001397</td>\n      <td>57.873429</td>\n      <td>60.246386</td>\n      <td>4771.687281</td>\n    </tr>\n    <tr>\n      <th>584</th>\n      <td>ESP_011289_1950_RED-0009.jpg</td>\n      <td>6</td>\n      <td>2.192261</td>\n      <td>554.220464</td>\n      <td>-0.000272</td>\n      <td>49.464534</td>\n      <td>75.727784</td>\n      <td>5847.890326</td>\n    </tr>\n    <tr>\n      <th>1397</th>\n      <td>ESP_011289_1950_RED-0013.jpg</td>\n      <td>6</td>\n      <td>2.810844</td>\n      <td>708.864470</td>\n      <td>0.001979</td>\n      <td>112.121442</td>\n      <td>77.699237</td>\n      <td>5529.686793</td>\n    </tr>\n    <tr>\n      <th>...</th>\n      <td>...</td>\n      <td>...</td>\n      <td>...</td>\n      <td>...</td>\n      <td>...</td>\n      <td>...</td>\n      <td>...</td>\n      <td>...</td>\n    </tr>\n    <tr>\n      <th>1377</th>\n      <td>TRA_000828_1805_RED-0148.jpg</td>\n      <td>6</td>\n      <td>15.058802</td>\n      <td>3613.226956</td>\n      <td>0.000252</td>\n      <td>52.019892</td>\n      <td>71.678802</td>\n      <td>5660.806630</td>\n    </tr>\n    <tr>\n      <th>513</th>\n      <td>TRA_000828_1805_RED-0149.jpg</td>\n      <td>6</td>\n      <td>11.644220</td>\n      <td>2833.688185</td>\n      <td>-0.002193</td>\n      <td>43.480424</td>\n      <td>85.822217</td>\n      <td>5167.247265</td>\n    </tr>\n    <tr>\n      <th>2478</th>\n      <td>TRA_000828_1805_RED-0152.jpg</td>\n      <td>0</td>\n      <td>12.139087</td>\n      <td>2948.109689</td>\n      <td>-0.001669</td>\n      <td>16.581029</td>\n      <td>112.054319</td>\n      <td>1032.092588</td>\n    </tr>\n    <tr>\n      <th>1577</th>\n      <td>TRA_000828_1805_RED-0154.jpg</td>\n      <td>0</td>\n      <td>12.272701</td>\n      <td>2978.919521</td>\n      <td>-0.007510</td>\n      <td>35.245009</td>\n      <td>82.779309</td>\n      <td>4322.291647</td>\n    </tr>\n    <tr>\n      <th>900</th>\n      <td>TRA_000828_1805_RED-0162.jpg</td>\n      <td>6</td>\n      <td>9.882493</td>\n      <td>2422.372130</td>\n      <td>0.007258</td>\n      <td>49.805843</td>\n      <td>71.907373</td>\n      <td>4354.583456</td>\n    </tr>\n  </tbody>\n</table>\n<p>3820 rows × 8 columns</p>\n</div>"
     },
     "metadata": {},
     "execution_count": 32
    }
   ],
   "source": [
    "df_labelled"
   ]
  },
  {
   "cell_type": "markdown",
   "id": "orange-graph",
   "metadata": {},
   "source": [
    "## Cross Validation - Multi Class Classification With Random Forest\n",
    "\n",
    "The classes in the Deep Mars dataset are as follows:\n",
    "\n",
    "0: Other\n",
    "\n",
    "1: Crater\n",
    "\n",
    "2: Dark Dune\n",
    "\n",
    "3: Streak\n",
    "\n",
    "4: Bright Dune\n",
    "\n",
    "5: Impact\n",
    "\n",
    "6: Edge"
   ]
  },
  {
   "cell_type": "code",
   "execution_count": 40,
   "id": "white-attitude",
   "metadata": {},
   "outputs": [
    {
     "output_type": "stream",
     "name": "stderr",
     "text": [
      "c:\\users\\dpale\\desktop\\projects\\marsvision\\marsvision\\pipeline\\Model.py:57: YAMLLoadWarning: calling yaml.load() without Loader=... is deprecated, as the default Loader is unsafe. Please read https://msg.pyyaml.org/load for full details.\n  self.config = yaml.load(yaml_cfg)\n"
     ]
    }
   ],
   "source": [
    "from sklearn.ensemble import RandomForestClassifier\n",
    "from marsvision.pipeline import Model\n",
    "random_forest = RandomForestClassifier(n_estimators = 500)\n",
    "x = data_loader.images\n",
    "y = data_loader.labels\n",
    "random_forest = RandomForestClassifier(n_estimators = 500)\n",
    "model = Model(random_forest, \"sklearn\", \n",
    "              training_images = x,\n",
    "              training_labels = y)"
   ]
  },
  {
   "cell_type": "code",
   "execution_count": null,
   "metadata": {},
   "outputs": [],
   "source": []
  },
  {
   "cell_type": "code",
   "execution_count": 41,
   "id": "grand-control",
   "metadata": {},
   "outputs": [],
   "source": [
    "multiclass_cv = model.cross_validate(5, \"accuracy\")"
   ]
  },
  {
   "cell_type": "markdown",
   "id": "rough-repair",
   "metadata": {},
   "source": [
    "## Cross Validation Results - Per-Class Binary Classification\n",
    "### \"Other\" Class"
   ]
  },
  {
   "cell_type": "code",
   "execution_count": 43,
   "id": "described-czech",
   "metadata": {},
   "outputs": [
    {
     "output_type": "error",
     "ename": "ValueError",
     "evalue": "Found input variables with inconsistent numbers of samples: [3822, 3820]",
     "traceback": [
      "\u001b[1;31m---------------------------------------------------------------------------\u001b[0m",
      "\u001b[1;31mValueError\u001b[0m                                Traceback (most recent call last)",
      "\u001b[1;32m<ipython-input-43-7ef352d6beec>\u001b[0m in \u001b[0;36m<module>\u001b[1;34m\u001b[0m\n\u001b[0;32m      1\u001b[0m model.training_labels = df_labelled[\"class_code\"].apply(lambda label: \n\u001b[0;32m      2\u001b[0m                                                     1 if label == 0 else 0)\n\u001b[1;32m----> 3\u001b[1;33m \u001b[0mother_cv_results\u001b[0m \u001b[1;33m=\u001b[0m \u001b[0mmodel\u001b[0m\u001b[1;33m.\u001b[0m\u001b[0mcross_validate_plot\u001b[0m\u001b[1;33m(\u001b[0m\u001b[1;34m\"Marsvision Basic Pipeline ROC - 'Other' Class\"\u001b[0m\u001b[1;33m)\u001b[0m\u001b[1;33m\u001b[0m\u001b[1;33m\u001b[0m\u001b[0m\n\u001b[0m",
      "\u001b[1;32mc:\\users\\dpale\\desktop\\projects\\marsvision\\marsvision\\pipeline\\Model.py\u001b[0m in \u001b[0;36mcross_validate_plot\u001b[1;34m(self, title, n_folds)\u001b[0m\n\u001b[0;32m    197\u001b[0m         \u001b[0mfig\u001b[0m\u001b[1;33m,\u001b[0m \u001b[0max\u001b[0m \u001b[1;33m=\u001b[0m \u001b[0mplt\u001b[0m\u001b[1;33m.\u001b[0m\u001b[0msubplots\u001b[0m\u001b[1;33m(\u001b[0m\u001b[1;33m)\u001b[0m\u001b[1;33m\u001b[0m\u001b[1;33m\u001b[0m\u001b[0m\n\u001b[0;32m    198\u001b[0m \u001b[1;33m\u001b[0m\u001b[0m\n\u001b[1;32m--> 199\u001b[1;33m         \u001b[0mcv_results\u001b[0m \u001b[1;33m=\u001b[0m \u001b[0mself\u001b[0m\u001b[1;33m.\u001b[0m\u001b[0mcross_validate_binary_metrics\u001b[0m\u001b[1;33m(\u001b[0m\u001b[0mn_folds\u001b[0m\u001b[1;33m,\u001b[0m \u001b[0max\u001b[0m\u001b[1;33m)\u001b[0m\u001b[1;33m\u001b[0m\u001b[1;33m\u001b[0m\u001b[0m\n\u001b[0m\u001b[0;32m    200\u001b[0m \u001b[1;33m\u001b[0m\u001b[0m\n\u001b[0;32m    201\u001b[0m         \u001b[0mfig\u001b[0m\u001b[1;33m.\u001b[0m\u001b[0mset_size_inches\u001b[0m\u001b[1;33m(\u001b[0m\u001b[1;36m18.5\u001b[0m\u001b[1;33m,\u001b[0m \u001b[1;36m10.5\u001b[0m\u001b[1;33m)\u001b[0m\u001b[1;33m\u001b[0m\u001b[1;33m\u001b[0m\u001b[0m\n",
      "\u001b[1;32mc:\\users\\dpale\\desktop\\projects\\marsvision\\marsvision\\pipeline\\Model.py\u001b[0m in \u001b[0;36mcross_validate_binary_metrics\u001b[1;34m(self, n_folds, ax)\u001b[0m\n\u001b[0;32m    260\u001b[0m         \u001b[0mx_domain\u001b[0m \u001b[1;33m=\u001b[0m \u001b[0mnp\u001b[0m\u001b[1;33m.\u001b[0m\u001b[0mlinspace\u001b[0m\u001b[1;33m(\u001b[0m\u001b[1;36m0\u001b[0m\u001b[1;33m,\u001b[0m \u001b[1;36m1\u001b[0m\u001b[1;33m,\u001b[0m \u001b[1;36m100\u001b[0m\u001b[1;33m)\u001b[0m\u001b[1;33m\u001b[0m\u001b[1;33m\u001b[0m\u001b[0m\n\u001b[0;32m    261\u001b[0m \u001b[1;33m\u001b[0m\u001b[0m\n\u001b[1;32m--> 262\u001b[1;33m         \u001b[1;32mfor\u001b[0m \u001b[0mi\u001b[0m\u001b[1;33m,\u001b[0m \u001b[1;33m(\u001b[0m\u001b[0mtrain\u001b[0m\u001b[1;33m,\u001b[0m \u001b[0mtest\u001b[0m\u001b[1;33m)\u001b[0m \u001b[1;32min\u001b[0m \u001b[0menumerate\u001b[0m\u001b[1;33m(\u001b[0m\u001b[0mstratified_kfold\u001b[0m\u001b[1;33m.\u001b[0m\u001b[0msplit\u001b[0m\u001b[1;33m(\u001b[0m\u001b[0mself\u001b[0m\u001b[1;33m.\u001b[0m\u001b[0mextracted_features\u001b[0m\u001b[1;33m,\u001b[0m \u001b[0mself\u001b[0m\u001b[1;33m.\u001b[0m\u001b[0mtraining_labels\u001b[0m\u001b[1;33m)\u001b[0m\u001b[1;33m)\u001b[0m\u001b[1;33m:\u001b[0m\u001b[1;33m\u001b[0m\u001b[1;33m\u001b[0m\u001b[0m\n\u001b[0m\u001b[0;32m    263\u001b[0m             \u001b[0mself\u001b[0m\u001b[1;33m.\u001b[0m\u001b[0mmodel\u001b[0m\u001b[1;33m.\u001b[0m\u001b[0mfit\u001b[0m\u001b[1;33m(\u001b[0m\u001b[0mx\u001b[0m\u001b[1;33m[\u001b[0m\u001b[0mtrain\u001b[0m\u001b[1;33m]\u001b[0m\u001b[1;33m,\u001b[0m \u001b[0my\u001b[0m\u001b[1;33m[\u001b[0m\u001b[0mtrain\u001b[0m\u001b[1;33m]\u001b[0m\u001b[1;33m)\u001b[0m\u001b[1;33m\u001b[0m\u001b[1;33m\u001b[0m\u001b[0m\n\u001b[0;32m    264\u001b[0m             \u001b[0mviz\u001b[0m \u001b[1;33m=\u001b[0m \u001b[0mplot_roc_curve\u001b[0m\u001b[1;33m(\u001b[0m\u001b[0mself\u001b[0m\u001b[1;33m.\u001b[0m\u001b[0mmodel\u001b[0m\u001b[1;33m,\u001b[0m \u001b[0mx\u001b[0m\u001b[1;33m[\u001b[0m\u001b[0mtest\u001b[0m\u001b[1;33m]\u001b[0m\u001b[1;33m,\u001b[0m \u001b[0my\u001b[0m\u001b[1;33m[\u001b[0m\u001b[0mtest\u001b[0m\u001b[1;33m]\u001b[0m\u001b[1;33m)\u001b[0m\u001b[1;33m\u001b[0m\u001b[1;33m\u001b[0m\u001b[0m\n",
      "\u001b[1;32m~\\anaconda3\\envs\\marsvision\\lib\\site-packages\\sklearn\\model_selection\\_split.py\u001b[0m in \u001b[0;36msplit\u001b[1;34m(self, X, y, groups)\u001b[0m\n\u001b[0;32m    322\u001b[0m             \u001b[0mThe\u001b[0m \u001b[0mtesting\u001b[0m \u001b[0mset\u001b[0m \u001b[0mindices\u001b[0m \u001b[1;32mfor\u001b[0m \u001b[0mthat\u001b[0m \u001b[0msplit\u001b[0m\u001b[1;33m.\u001b[0m\u001b[1;33m\u001b[0m\u001b[1;33m\u001b[0m\u001b[0m\n\u001b[0;32m    323\u001b[0m         \"\"\"\n\u001b[1;32m--> 324\u001b[1;33m         \u001b[0mX\u001b[0m\u001b[1;33m,\u001b[0m \u001b[0my\u001b[0m\u001b[1;33m,\u001b[0m \u001b[0mgroups\u001b[0m \u001b[1;33m=\u001b[0m \u001b[0mindexable\u001b[0m\u001b[1;33m(\u001b[0m\u001b[0mX\u001b[0m\u001b[1;33m,\u001b[0m \u001b[0my\u001b[0m\u001b[1;33m,\u001b[0m \u001b[0mgroups\u001b[0m\u001b[1;33m)\u001b[0m\u001b[1;33m\u001b[0m\u001b[1;33m\u001b[0m\u001b[0m\n\u001b[0m\u001b[0;32m    325\u001b[0m         \u001b[0mn_samples\u001b[0m \u001b[1;33m=\u001b[0m \u001b[0m_num_samples\u001b[0m\u001b[1;33m(\u001b[0m\u001b[0mX\u001b[0m\u001b[1;33m)\u001b[0m\u001b[1;33m\u001b[0m\u001b[1;33m\u001b[0m\u001b[0m\n\u001b[0;32m    326\u001b[0m         \u001b[1;32mif\u001b[0m \u001b[0mself\u001b[0m\u001b[1;33m.\u001b[0m\u001b[0mn_splits\u001b[0m \u001b[1;33m>\u001b[0m \u001b[0mn_samples\u001b[0m\u001b[1;33m:\u001b[0m\u001b[1;33m\u001b[0m\u001b[1;33m\u001b[0m\u001b[0m\n",
      "\u001b[1;32m~\\anaconda3\\envs\\marsvision\\lib\\site-packages\\sklearn\\utils\\validation.py\u001b[0m in \u001b[0;36mindexable\u001b[1;34m(*iterables)\u001b[0m\n\u001b[0;32m    297\u001b[0m     \"\"\"\n\u001b[0;32m    298\u001b[0m     \u001b[0mresult\u001b[0m \u001b[1;33m=\u001b[0m \u001b[1;33m[\u001b[0m\u001b[0m_make_indexable\u001b[0m\u001b[1;33m(\u001b[0m\u001b[0mX\u001b[0m\u001b[1;33m)\u001b[0m \u001b[1;32mfor\u001b[0m \u001b[0mX\u001b[0m \u001b[1;32min\u001b[0m \u001b[0miterables\u001b[0m\u001b[1;33m]\u001b[0m\u001b[1;33m\u001b[0m\u001b[1;33m\u001b[0m\u001b[0m\n\u001b[1;32m--> 299\u001b[1;33m     \u001b[0mcheck_consistent_length\u001b[0m\u001b[1;33m(\u001b[0m\u001b[1;33m*\u001b[0m\u001b[0mresult\u001b[0m\u001b[1;33m)\u001b[0m\u001b[1;33m\u001b[0m\u001b[1;33m\u001b[0m\u001b[0m\n\u001b[0m\u001b[0;32m    300\u001b[0m     \u001b[1;32mreturn\u001b[0m \u001b[0mresult\u001b[0m\u001b[1;33m\u001b[0m\u001b[1;33m\u001b[0m\u001b[0m\n\u001b[0;32m    301\u001b[0m \u001b[1;33m\u001b[0m\u001b[0m\n",
      "\u001b[1;32m~\\anaconda3\\envs\\marsvision\\lib\\site-packages\\sklearn\\utils\\validation.py\u001b[0m in \u001b[0;36mcheck_consistent_length\u001b[1;34m(*arrays)\u001b[0m\n\u001b[0;32m    261\u001b[0m     \u001b[1;32mif\u001b[0m \u001b[0mlen\u001b[0m\u001b[1;33m(\u001b[0m\u001b[0muniques\u001b[0m\u001b[1;33m)\u001b[0m \u001b[1;33m>\u001b[0m \u001b[1;36m1\u001b[0m\u001b[1;33m:\u001b[0m\u001b[1;33m\u001b[0m\u001b[1;33m\u001b[0m\u001b[0m\n\u001b[0;32m    262\u001b[0m         raise ValueError(\"Found input variables with inconsistent numbers of\"\n\u001b[1;32m--> 263\u001b[1;33m                          \" samples: %r\" % [int(l) for l in lengths])\n\u001b[0m\u001b[0;32m    264\u001b[0m \u001b[1;33m\u001b[0m\u001b[0m\n\u001b[0;32m    265\u001b[0m \u001b[1;33m\u001b[0m\u001b[0m\n",
      "\u001b[1;31mValueError\u001b[0m: Found input variables with inconsistent numbers of samples: [3822, 3820]"
     ]
    }
   ],
   "source": [
    "model.training_labels = df_labelled[\"class_code\"].apply(lambda label: \n",
    "                                                    1 if label == 0 else 0)\n",
    "other_cv_results = model.cross_validate_plot(\"Marsvision Basic Pipeline ROC - 'Other' Class\")"
   ]
  },
  {
   "cell_type": "markdown",
   "id": "vietnamese-symphony",
   "metadata": {},
   "source": [
    "## Cross Validation Results - Per-Class Binary Classification\n",
    "### \"Crater\" Class"
   ]
  },
  {
   "cell_type": "code",
   "execution_count": null,
   "id": "willing-mainstream",
   "metadata": {},
   "outputs": [],
   "source": [
    "model.training_labels = df_labelled[\"class_code\"].apply(lambda label: \n",
    "                                                    1 if label == 1 else 0)\n",
    "crater_cv_results = model.cross_validate_plot(\"Marsvision Basic Pipeline ROC - 'Crater' Class\")"
   ]
  },
  {
   "cell_type": "markdown",
   "id": "material-scottish",
   "metadata": {},
   "source": [
    "## Cross Validation Results - Per-Class Binary Classification\n",
    "### \"Dark Dune\" Class"
   ]
  },
  {
   "cell_type": "code",
   "execution_count": null,
   "id": "under-gates",
   "metadata": {},
   "outputs": [],
   "source": [
    "model.training_labels = df_labelled[\"class_code\"].apply(lambda label: \n",
    "                                                    1 if label == 2 else 0)\n",
    "dark_dune_cv_results = model.cross_validate_plot(\"Marsvision Basic Pipeline ROC - 'Dark Dune' Class\")"
   ]
  },
  {
   "cell_type": "markdown",
   "id": "seeing-hometown",
   "metadata": {},
   "source": [
    "## Cross Validation Results - Per-Class Binary Classification\n",
    "### \"Streak\" Class"
   ]
  },
  {
   "cell_type": "code",
   "execution_count": null,
   "id": "wound-influence",
   "metadata": {},
   "outputs": [],
   "source": [
    "model.training_labels = df_labelled[\"class_code\"].apply(lambda label: \n",
    "                                                    1 if label == 3 else 0)\n",
    "streak_cv_results = model.cross_validate_plot(\"Marsvision Basic Pipeline ROC - 'Streak' Class\")"
   ]
  },
  {
   "cell_type": "markdown",
   "id": "acoustic-child",
   "metadata": {},
   "source": [
    "## Cross Validation Results - Per-Class Binary Classification\n",
    "### \"Bright Dune\" Class"
   ]
  },
  {
   "cell_type": "code",
   "execution_count": null,
   "id": "toxic-stuart",
   "metadata": {},
   "outputs": [],
   "source": [
    "model.training_labels = df_labelled[\"class_code\"].apply(lambda label: \n",
    "                                                    1 if label == 4 else 0)\n",
    "bright_dune_cv_results = model.cross_validate_plot(\"Marsvision Basic Pipeline ROC - 'Bright Dune' Class\")"
   ]
  },
  {
   "cell_type": "markdown",
   "id": "approximate-olive",
   "metadata": {},
   "source": [
    "## Cross Validation Results - Per-Class Binary Classification\n",
    "### \"Edge\" Class"
   ]
  },
  {
   "cell_type": "code",
   "execution_count": null,
   "id": "proprietary-bernard",
   "metadata": {},
   "outputs": [],
   "source": [
    "model.training_labels = df_labelled[\"class_code\"].apply(lambda label: \n",
    "                                                    1 if label == 6 else 0)\n",
    "edge_cv_results = model.cross_validate_plot(\"Marsvision Basic Pipeline ROC - 'Edge' Class\")"
   ]
  },
  {
   "cell_type": "markdown",
   "id": "caring-stocks",
   "metadata": {},
   "source": [
    "## Note on the \"Impact Class\":\n",
    "There are no samples with this class (impact, class code = 5). Therefore, we cannot train and test for this class."
   ]
  },
  {
   "cell_type": "markdown",
   "id": "third-dealer",
   "metadata": {},
   "source": [
    "# Class Frequency\n",
    "Show histogram of classes to give us an idea of class distributions."
   ]
  },
  {
   "cell_type": "code",
   "execution_count": null,
   "id": "precious-mainland",
   "metadata": {},
   "outputs": [],
   "source": [
    "import seaborn as sns\n",
    "ax = sns.displot(df_labelled, x=\"class_code\", aspect=1.5)\n",
    "ax.set(xticks=range(7), title=\"Deep Mars Class Counts\")\n",
    "ax.set_xticklabels([\"Other\", \"Crater\", \"Streak\", \"Dark Dune\", \"Bright Dune\", \"Impact\", \"Edge\"])"
   ]
  },
  {
   "cell_type": "markdown",
   "id": "great-acting",
   "metadata": {},
   "source": [
    "# Comparing Cross Validation Results Per-Class\n",
    "\n",
    "These are scores for a Random Forest classifier on each class treated as a binary prediction."
   ]
  },
  {
   "cell_type": "code",
   "execution_count": null,
   "id": "congressional-north",
   "metadata": {},
   "outputs": [],
   "source": [
    "import numpy as np\n",
    "results_df = pd.DataFrame(data={\n",
    "    \"class_name\": [\"Other\", \"Crater\", \"Streak\", \"Dark Dune\", \"Bright Dune\", \"Edge\"],\n",
    "    \"mean_precision\": [\n",
    "        np.mean(other_cv_results[\"precisions\"]),\n",
    "        np.mean(crater_cv_results[\"precisions\"]),\n",
    "        np.mean(streak_cv_results[\"precisions\"]),\n",
    "        np.mean(dark_dune_cv_results[\"precisions\"]),\n",
    "        np.mean(bright_dune_cv_results[\"precisions\"]),\n",
    "        np.mean(edge_cv_results[\"precisions\"])\n",
    "    ],\n",
    "    \"mean_recall\": [\n",
    "        np.mean(other_cv_results[\"recalls\"]),\n",
    "        np.mean(crater_cv_results[\"recalls\"]),\n",
    "        np.mean(streak_cv_results[\"recalls\"]),\n",
    "        np.mean(dark_dune_cv_results[\"recalls\"]),\n",
    "        np.mean(bright_dune_cv_results[\"recalls\"]),\n",
    "        np.mean(edge_cv_results[\"recalls\"])\n",
    "    ],\n",
    "    \"mean_auc\": [\n",
    "        other_cv_results[\"mean_auc\"],\n",
    "        crater_cv_results[\"mean_auc\"],\n",
    "        streak_cv_results[\"mean_auc\"],\n",
    "        dark_dune_cv_results[\"mean_auc\"],\n",
    "        bright_dune_cv_results[\"mean_auc\"],\n",
    "        edge_cv_results[\"mean_auc\"]\n",
    "    ],\n",
    "    \"mean_acc\": [\n",
    "        other_cv_results[\"acc_mean\"],\n",
    "        crater_cv_results[\"acc_mean\"],\n",
    "        streak_cv_results[\"acc_mean\"],\n",
    "        dark_dune_cv_results[\"acc_mean\"],\n",
    "        bright_dune_cv_results[\"acc_mean\"],\n",
    "        edge_cv_results[\"acc_mean\"]]\n",
    "})\n",
    "\n"
   ]
  },
  {
   "cell_type": "code",
   "execution_count": null,
   "id": "animal-value",
   "metadata": {},
   "outputs": [],
   "source": [
    "results_df"
   ]
  },
  {
   "cell_type": "code",
   "execution_count": null,
   "id": "accompanied-chemical",
   "metadata": {},
   "outputs": [],
   "source": [
    "import seaborn as sns\n",
    "import matplotlib.pyplot as plt\n",
    "plt.figure(figsize=(8, 6))\n",
    "ax = sns.barplot(x=\"class_name\", y=\"mean_precision\",\n",
    "                data=results_df)\n",
    "ax.set_title(\"Random Forest | Basic Pipeline Average Precision | 5 Fold CV\")"
   ]
  },
  {
   "cell_type": "code",
   "execution_count": null,
   "id": "finnish-apparel",
   "metadata": {},
   "outputs": [],
   "source": [
    "plt.figure(figsize=(8, 6))\n",
    "ax = sns.barplot(x=\"class_name\", y=\"mean_recall\",\n",
    "                data=results_df)\n",
    "ax.set_title(\"Basic Pipeline Average Recall | 5 Fold CV\")"
   ]
  },
  {
   "cell_type": "code",
   "execution_count": null,
   "id": "robust-colombia",
   "metadata": {},
   "outputs": [],
   "source": [
    "plt.figure(figsize=(8, 6))\n",
    "ax = sns.barplot(x=\"class_name\", y=\"mean_auc\",\n",
    "                data=results_df)\n",
    "ax.set_title(\"Random Forest |Basic Pipeline Average AUC | 5 Fold CV\")"
   ]
  },
  {
   "cell_type": "code",
   "execution_count": null,
   "id": "based-corpus",
   "metadata": {},
   "outputs": [],
   "source": [
    "plt.figure(figsize=(8, 6))\n",
    "ax = sns.barplot(x=\"class_name\", y=\"mean_acc\",\n",
    "                data=results_df)\n",
    "ax.set_title(\"Random Forest | Basic Pipeline Average Accuracy | 5 Fold CV\")\n"
   ]
  },
  {
   "cell_type": "markdown",
   "id": "previous-swiss",
   "metadata": {},
   "source": [
    "The baseline does well identifying the \"other\" class, which in our dataset means not an object. It did poorly on the Crater and Bright Dune classes, and somewhat better on the Streak and Dark Dune classes as we'd expect. Across the board we have poor recall, which means that this baseline random forest model would not do well in detecting new surface features."
   ]
  },
  {
   "cell_type": "code",
   "execution_count": null,
   "id": "explicit-italy",
   "metadata": {
    "scrolled": true
   },
   "outputs": [],
   "source": [
    "np.mean(model.cv_results[\"test_score\"])"
   ]
  },
  {
   "cell_type": "markdown",
   "id": "opposed-greensboro",
   "metadata": {},
   "source": [
    "## Baseline CV Accuracy - All Classes (Mean from 5 Folds): 94.8%\n",
    "\n",
    "It's worth noting that the seemingly high accuracy is likely due to the imbalance of the \"Other\" and \"Edge\" classes."
   ]
  },
  {
   "cell_type": "code",
   "execution_count": null,
   "id": "tribal-rider",
   "metadata": {},
   "outputs": [],
   "source": []
  }
 ],
 "metadata": {
  "kernelspec": {
   "name": "python379jvsc74a57bd084d3a40f50c134738429f841fad1d858446cedbe9c2a038de9a8cecbfc4d1346",
   "display_name": "Python 3.7.9 64-bit ('marsvision': conda)"
  },
  "language_info": {
   "codemirror_mode": {
    "name": "ipython",
    "version": 3
   },
   "file_extension": ".py",
   "mimetype": "text/x-python",
   "name": "python",
   "nbconvert_exporter": "python",
   "pygments_lexer": "ipython3",
   "version": "3.7.9"
  }
 },
 "nbformat": 4,
 "nbformat_minor": 5
}