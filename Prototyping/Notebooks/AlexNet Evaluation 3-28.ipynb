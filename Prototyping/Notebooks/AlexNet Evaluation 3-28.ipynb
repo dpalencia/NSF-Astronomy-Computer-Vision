{
 "cells": [
  {
   "cell_type": "code",
   "execution_count": 1,
   "id": "starting-difference",
   "metadata": {},
   "outputs": [],
   "source": [
    "import pickle\n",
    "alexnet_results = pickle.load(open(\"./pytorch-eval/alexnet-results-3-25.p\", \"rb\"))"
   ]
  },
  {
   "cell_type": "markdown",
   "id": "headed-display",
   "metadata": {},
   "source": [
    "## Show predictions and label distributions"
   ]
  },
  {
   "cell_type": "code",
   "execution_count": 102,
   "id": "liable-diagnosis",
   "metadata": {},
   "outputs": [
    {
     "data": {
      "image/png": "[encoded data removed]",
      "text/plain": [
       "<Figure size 576x432 with 1 Axes>"
      ]
     },
     "metadata": {
      "needs_background": "light"
     },
     "output_type": "display_data"
    }
   ],
   "source": [
    "final_epoch_predicted = np.array(alexnet_results[\"predicted_labels\"][-1])\n",
    "predicted_counts = np.unique(final_epoch_predicted, return_counts=True)[1]\n",
    "\n",
    "final_epoch_truth_labels = alexnet_results[\"ground_truth_labels\"][-1]\n",
    "label_counts = np.unique(final_epoch_truth_labels, return_counts=True)[1]\n",
    "\n",
    "\n",
    "fig = plt.figure()\n",
    "ax = fig.add_subplot()\n",
    "fig.set_size_inches(8, 6)\n",
    "indices = np.array(list(range(6)))\n",
    "ax.bar(indices - 0.2, predicted_counts, 0.3,label='Predictions')\n",
    "ax.bar(indices + 0.2, label_counts, 0.3, label='Ground Truth Labels')\n",
    "ax.set_xlabel('AlexNet Predictions and Ground Truth Labels')\n",
    "plt.legend()\n",
    "plt.show()"
   ]
  },
  {
   "cell_type": "code",
   "execution_count": 2,
   "id": "altered-lloyd",
   "metadata": {},
   "outputs": [
    {
     "data": {
      "text/plain": [
       "dict_keys(['epoch_acc', 'epoch_loss', 'predicted_labels', 'prediction_probabilities', 'ground_truth_labels'])"
      ]
     },
     "execution_count": 2,
     "metadata": {},
     "output_type": "execute_result"
    }
   ],
   "source": [
    "# Show keys from the evaluation results file\n",
    "alexnet_results.keys()"
   ]
  },
  {
   "cell_type": "code",
   "execution_count": 3,
   "id": "bigger-argument",
   "metadata": {},
   "outputs": [
    {
     "data": {
      "text/plain": [
       "0.9109947643979057"
      ]
     },
     "execution_count": 3,
     "metadata": {},
     "output_type": "execute_result"
    }
   ],
   "source": [
    "# Each key is a list, with list indices corresponding to epochs. \n",
    "# To evaluate the model at the end of the training, examine the final epoch.\n",
    "alexnet_results[\"epoch_acc\"][-1]"
   ]
  },
  {
   "cell_type": "markdown",
   "id": "suspected-spirit",
   "metadata": {},
   "source": [
    "### This model had 91% accuracy."
   ]
  },
  {
   "cell_type": "markdown",
   "id": "enabling-briefing",
   "metadata": {},
   "source": [
    "The classes in the Deep Mars dataset are as follows:\n",
    "\n",
    "0: Other\n",
    "\n",
    "1: Crater\n",
    "\n",
    "2: Dark Dune\n",
    "\n",
    "3: Streak\n",
    "\n",
    "4: Bright Dune\n",
    "\n",
    "5: Impact\n",
    "\n",
    "6: Edge\n",
    "\n",
    "However, there are no instances of impact. Therefore, the true labels as seen here are:\n",
    "\n",
    "0: Other\n",
    "\n",
    "1: Crater\n",
    "\n",
    "2: Dark Dune\n",
    "\n",
    "3: Streak\n",
    "\n",
    "4: Bright Dune\n",
    "\n",
    "5: Edge\n"
   ]
  },
  {
   "cell_type": "markdown",
   "id": "suitable-karen",
   "metadata": {},
   "source": [
    "## Evaluate per-class precisions and recalls.\n",
    "\n",
    "These are calculated in a method within the marsvision package which generates confusion matrices per clas."
   ]
  },
  {
   "cell_type": "code",
   "execution_count": 5,
   "id": "reported-yorkshire",
   "metadata": {},
   "outputs": [
    {
     "name": "stderr",
     "output_type": "stream",
     "text": [
      "c:\\users\\dpale\\desktop\\projects\\marsvision\\marsvision\\utilities\\cnn_eval.py:24: RuntimeWarning: invalid value encountered in longlong_scalars\n",
      "  recall = matrix[1][1] / (matrix[0][1] + matrix[1][1])\n"
     ]
    }
   ],
   "source": [
    "from marsvision.utilities import cnn_eval\n",
    "# This dataframe contains evaluation metrics for every epoch (as a row). \n",
    "cnn_eval_df = cnn_eval.get_evaluation_dataframe(\"./pytorch-eval/alexnet-results-3-25.p\")"
   ]
  },
  {
   "cell_type": "markdown",
   "id": "improved-hawaiian",
   "metadata": {},
   "source": [
    "### Show raw scores."
   ]
  },
  {
   "cell_type": "code",
   "execution_count": 107,
   "id": "accessible-breast",
   "metadata": {},
   "outputs": [
    {
     "data": {
      "text/plain": [
       "accuracy       0.910995\n",
       "precision_0    0.928218\n",
       "precision_1    0.770270\n",
       "precision_2    0.975610\n",
       "precision_3    0.285714\n",
       "precision_4    0.838710\n",
       "precision_5    0.939759\n",
       "recall_0       0.916870\n",
       "recall_1       0.876923\n",
       "recall_2       0.941176\n",
       "recall_3       0.666667\n",
       "recall_4       0.928571\n",
       "recall_5       0.896552\n",
       "Name: 599, dtype: float64"
      ]
     },
     "execution_count": 107,
     "metadata": {},
     "output_type": "execute_result"
    }
   ],
   "source": [
    "# We want the final row (representing the final epoch and the model's final state)\n",
    "cnn_eval_df.iloc[-1]"
   ]
  },
  {
   "cell_type": "markdown",
   "id": "intimate-apache",
   "metadata": {},
   "source": [
    "### Show barplots of precisions and recalls."
   ]
  },
  {
   "cell_type": "code",
   "execution_count": 18,
   "id": "right-application",
   "metadata": {},
   "outputs": [
    {
     "data": {
      "text/plain": [
       "Text(0.5, 1.0, 'Alexnet CNN | Precision On 80/20 Stratified Split')"
      ]
     },
     "execution_count": 18,
     "metadata": {},
     "output_type": "execute_result"
    },
    {
     "data": {
      "image/png": "[encoded data removed]",
      "text/plain": [
       "<Figure size 576x432 with 1 Axes>"
      ]
     },
     "metadata": {
      "needs_background": "light"
     },
     "output_type": "display_data"
    }
   ],
   "source": [
    "import numpy as np\n",
    "import seaborn as sns\n",
    "import matplotlib.pyplot as plt\n",
    "class_names = [\"Other\", \"Crater\", \"Streak\", \"Dark Dune\", \"Bright Dune\", \"Edge\"]\n",
    "precisions = np.array(cnn_eval_df.iloc[-1][1:7])\n",
    "plt.figure(figsize=(8, 6))\n",
    "ax = sns.barplot(x=class_names, y=precisions)\n",
    "ax.set_title(\"Alexnet CNN | Precision On 80/20 Stratified Split\")"
   ]
  },
  {
   "cell_type": "code",
   "execution_count": 31,
   "id": "extraordinary-kitty",
   "metadata": {},
   "outputs": [
    {
     "data": {
      "text/plain": [
       "Text(0.5, 1.0, 'Alexnet CNN | Recall On 80/20 Stratified Split')"
      ]
     },
     "execution_count": 31,
     "metadata": {},
     "output_type": "execute_result"
    },
    {
     "data": {
      "image/png": "[encoded data removed]",
      "text/plain": [
       "<Figure size 576x432 with 1 Axes>"
      ]
     },
     "metadata": {
      "needs_background": "light"
     },
     "output_type": "display_data"
    }
   ],
   "source": [
    "recalls = np.array(cnn_eval_df.iloc[-1][7:13])\n",
    "plt.figure(figsize=(8, 6))\n",
    "ax = sns.barplot(x=class_names, y=recalls)\n",
    "ax.set_title(\"Alexnet CNN | Recall On 80/20 Stratified Split\")"
   ]
  },
  {
   "cell_type": "markdown",
   "id": "abstract-provision",
   "metadata": {},
   "source": [
    "The precisions and recalls per class are overall higher than the baseline model, though the model performs poorly on the Dark Dune class due to a lack of data."
   ]
  }
 ],
 "metadata": {
  "kernelspec": {
   "display_name": "Python 3",
   "language": "python",
   "name": "python3"
  },
  "language_info": {
   "codemirror_mode": {
    "name": "ipython",
    "version": 3
   },
   "file_extension": ".py",
   "mimetype": "text/x-python",
   "name": "python",
   "nbconvert_exporter": "python",
   "pygments_lexer": "ipython3",
   "version": "3.7.9"
  }
 },
 "nbformat": 4,
 "nbformat_minor": 5
}
