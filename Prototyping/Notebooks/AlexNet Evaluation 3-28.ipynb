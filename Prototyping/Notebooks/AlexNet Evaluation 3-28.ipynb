{
 "cells": [
  {
   "cell_type": "code",
   "execution_count": 3,
   "id": "starting-difference",
   "metadata": {},
   "outputs": [],
   "source": [
    "import pickle\n",
    "alexnet_results = pickle.load(open(\"./pytorch-eval/alexnet-results-3-25.p\", \"rb\"))"
   ]
  },
  {
   "cell_type": "code",
   "execution_count": 4,
   "id": "altered-lloyd",
   "metadata": {},
   "outputs": [
    {
     "data": {
      "text/plain": [
       "dict_keys(['epoch_acc', 'epoch_loss', 'predicted_labels', 'prediction_probabilities', 'ground_truth_labels'])"
      ]
     },
     "execution_count": 4,
     "metadata": {},
     "output_type": "execute_result"
    }
   ],
   "source": [
    "# Show keys from the evaluation results file\n",
    "alexnet_results.keys()"
   ]
  },
  {
   "cell_type": "code",
   "execution_count": 5,
   "id": "bigger-argument",
   "metadata": {},
   "outputs": [
    {
     "data": {
      "text/plain": [
       "0.9109947643979057"
      ]
     },
     "execution_count": 5,
     "metadata": {},
     "output_type": "execute_result"
    }
   ],
   "source": [
    "# Each key is a list, with list indices corresponding to epochs. \n",
    "# To evaluate the model at the end of the training, examine the final epoch.\n",
    "alexnet_results[\"epoch_acc\"][-1]"
   ]
  },
  {
   "cell_type": "markdown",
   "id": "suspected-spirit",
   "metadata": {},
   "source": [
    "## This model had 91% accuracy."
   ]
  },
  {
   "cell_type": "markdown",
   "id": "enabling-briefing",
   "metadata": {},
   "source": [
    "The classes in the Deep Mars dataset are as follows:\n",
    "\n",
    "0: Other\n",
    "\n",
    "1: Crater\n",
    "\n",
    "2: Dark Dune\n",
    "\n",
    "3: Streak\n",
    "\n",
    "4: Bright Dune\n",
    "\n",
    "5: Impact\n",
    "\n",
    "6: Edge\n",
    "\n",
    "However, there are no instances of impact. Therefore, the true labels as seen here are:\n",
    "\n",
    "0: Other\n",
    "\n",
    "1: Crater\n",
    "\n",
    "2: Dark Dune\n",
    "\n",
    "3: Streak\n",
    "\n",
    "4: Bright Dune\n",
    "\n",
    "5: Edge\n"
   ]
  },
  {
   "cell_type": "code",
   "execution_count": 4,
   "id": "emotional-burden",
   "metadata": {},
   "outputs": [
    {
     "data": {
      "text/plain": [
       "array([[[326,  29],\n",
       "        [ 34, 375]],\n",
       "\n",
       "       [[682,  17],\n",
       "        [  8,  57]],\n",
       "\n",
       "       [[677,   2],\n",
       "        [  5,  80]],\n",
       "\n",
       "       [[756,   5],\n",
       "        [  1,   2]],\n",
       "\n",
       "       [[731,   5],\n",
       "        [  2,  26]],\n",
       "\n",
       "       [[580,  10],\n",
       "        [ 18, 156]]], dtype=int64)"
      ]
     },
     "execution_count": 4,
     "metadata": {},
     "output_type": "execute_result"
    }
   ],
   "source": [
    "# Examine other metrics in an OVA \n",
    "#(one vs all) fashion by producing confusion matrices per class\n",
    "# SKlearn confusion matrix format:\n",
    "# TN FN\n",
    "# FP TP\n",
    "\n",
    "from sklearn.metrics import multilabel_confusion_matrix\n",
    "x = alexnet_results[\"predicted_labels\"][-1]\n",
    "y = alexnet_results[\"ground_truth_labels\"][-1]\n",
    "confusion_matrix_list = multilabel_confusion_matrix(x, y)\n",
    "confusion_matrix_list\n"
   ]
  },
  {
   "cell_type": "code",
   "execution_count": 1,
   "id": "reported-yorkshire",
   "metadata": {},
   "outputs": [
    {
     "name": "stderr",
     "output_type": "stream",
     "text": [
      "c:\\users\\dpale\\desktop\\projects\\marsvision\\marsvision\\utilities\\cnn_eval.py:24: RuntimeWarning: invalid value encountered in longlong_scalars\n",
      "  recall = matrix[1][1] / (matrix[0][1] + matrix[1][1])\n"
     ]
    }
   ],
   "source": [
    "from marsvision.utilities import cnn_eval\n",
    "cnn_eval_df = cnn_eval.get_evaluation_dataframe(\"./pytorch-eval/alexnet-results-3-25.p\")"
   ]
  },
  {
   "cell_type": "code",
   "execution_count": 2,
   "id": "foreign-silicon",
   "metadata": {},
   "outputs": [
    {
     "data": {
      "text/plain": [
       "accuracy       0.910995\n",
       "precision_0    0.928218\n",
       "precision_1    0.770270\n",
       "precision_2    0.975610\n",
       "precision_3    0.285714\n",
       "precision_4    0.838710\n",
       "precision_5    0.939759\n",
       "recall_0       0.916870\n",
       "recall_1       0.876923\n",
       "recall_2       0.941176\n",
       "recall_3       0.666667\n",
       "recall_4       0.928571\n",
       "recall_5       0.896552\n",
       "Name: 599, dtype: float64"
      ]
     },
     "execution_count": 2,
     "metadata": {},
     "output_type": "execute_result"
    }
   ],
   "source": [
    "cnn_eval_df.iloc[-1]"
   ]
  },
  {
   "cell_type": "code",
   "execution_count": null,
   "id": "right-application",
   "metadata": {},
   "outputs": [],
   "source": []
  }
 ],
 "metadata": {
  "kernelspec": {
   "display_name": "Python 3",
   "language": "python",
   "name": "python3"
  },
  "language_info": {
   "codemirror_mode": {
    "name": "ipython",
    "version": 3
   },
   "file_extension": ".py",
   "mimetype": "text/x-python",
   "name": "python",
   "nbconvert_exporter": "python",
   "pygments_lexer": "ipython3",
   "version": "3.7.9"
  }
 },
 "nbformat": 4,
 "nbformat_minor": 5
}
