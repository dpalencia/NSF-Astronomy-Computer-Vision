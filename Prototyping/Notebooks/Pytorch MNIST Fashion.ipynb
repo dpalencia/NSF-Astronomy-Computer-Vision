{
 "cells": [
  {
   "cell_type": "code",
   "execution_count": 58,
   "metadata": {},
   "outputs": [],
   "source": [
    "import torch\n",
    "import torch.nn as nn\n",
    "import torch.optim as optim\n",
    "import torchvision\n",
    "import numpy as np\n",
    "import torch.nn.functional as F\n",
    "import torchvision\n",
    "import torchvision.transforms as transforms"
   ]
  },
  {
   "cell_type": "code",
   "execution_count": 115,
   "metadata": {},
   "outputs": [
    {
     "name": "stdout",
     "output_type": "stream",
     "text": [
      "Net(\n",
      "  (conv): Conv2d(1, 1, kernel_size=(3, 3), stride=(1, 1))\n",
      "  (linear): Linear(in_features=676, out_features=10, bias=True)\n",
      ")\n"
     ]
    }
   ],
   "source": [
    "class Net(nn.Module):\n",
    "    def __init__(self):\n",
    "        super(Net, self).__init__()\n",
    "        # Basic CNN:\n",
    "        # Convolution -> Relu -> Linear transformation -> Relu ->  Output (10 features)\n",
    "        self.conv = nn.Conv2d(1, 1, 3)\n",
    "        self.linear = nn.Linear(26 * 26, 10)\n",
    "    \n",
    "    def forward(self, x):\n",
    "        # Define the forward pass here\n",
    "        x = F.relu(self.conv(x))\n",
    "        x = x.view(-1, self.num_flat_features(x))\n",
    "        x = F.relu(self.linear(x))\n",
    "        return x\n",
    "        \n",
    "    def num_flat_features(self, x):\n",
    "        # Image dimensionality\n",
    "        # All dimensions except batch dimension\n",
    "        # Batch dimension being # of inputs\n",
    "        size = x.size()[1:]\n",
    "        num_features = 1\n",
    "        for s in size:\n",
    "            num_features *= s\n",
    "        return num_features\n",
    "    \n",
    "net = Net()\n",
    "print(net)"
   ]
  },
  {
   "cell_type": "code",
   "execution_count": 72,
   "metadata": {},
   "outputs": [
    {
     "name": "stdout",
     "output_type": "stream",
     "text": [
      "torch.Size([1, 1, 3, 3])\n",
      "torch.Size([1])\n",
      "torch.Size([10, 900])\n",
      "torch.Size([10])\n"
     ]
    }
   ],
   "source": [
    "for p in list(net.parameters()):\n",
    "    print(p.size())"
   ]
  },
  {
   "cell_type": "code",
   "execution_count": 97,
   "metadata": {},
   "outputs": [],
   "source": [
    "# Loading up FashionMNIST dataset into train and test sets\n",
    "\n",
    "# Transform images into tensors,\n",
    "# With normalized pixel values in range [-1, 1]\n",
    "transform = transforms.Compose(\n",
    "    [transforms.ToTensor(),\n",
    "     transforms.Normalize(0.5, 0.5)]\n",
    ")\n",
    "\n",
    "trainset = torchvision.datasets.FashionMNIST(root='./data', train=True, download=True, transform = transform)\n",
    "trainloader = torch.utils.data.DataLoader(trainset, batch_size = 4)\n",
    "testset = torchvision.datasets.FashionMNIST(root='./data', train=False, download=True, transform = transform)\n",
    "testloader = torch.utils.data.DataLoader(testset, batch_size = 4)\n",
    "classes = ('T-shirt/top', 'Trouser', 'Pullover', 'Dress',\n",
    "           'Coat', 'Sandal', 'Shirt', 'Sneaker', 'Bag', 'Ankle boot')"
   ]
  },
  {
   "cell_type": "code",
   "execution_count": 116,
   "metadata": {},
   "outputs": [],
   "source": [
    "import torch.optim as optim\n",
    "# Optimizer handles updating weights\n",
    "\n",
    "criterion = nn.CrossEntropyLoss()\n",
    "optimizer = optim.SGD(net.parameters(), lr=0.001, momentum=0.9)\n",
    "# 1. Zero the gradients for the next pass (PyTorch accumalates these gradients)\n",
    "# 2. Make a forward pass through the network to get predictions\n",
    "# 3. Get losses from our loss function \n",
    "# 4. Backpropagation calculates gradients of the loss w.r.t. our learnable parameters\n",
    "# 5. Adjust the weights by Stochastic Gradient Descent\n",
    "\n",
    "# Train the net over 4 epochs\n",
    "num_epochs = 4\n",
    "for repeat in range(num_epochs):\n",
    "    for i, data in enumerate(trainloader, 0):\n",
    "        in_data, labels = data\n",
    "        # Forward pass\n",
    "        output = net(in_data)\n",
    "        \n",
    "        # Zero gradients and calculate loss\n",
    "        optimizer.zero_grad()\n",
    "\n",
    "        loss = criterion(output, labels)\n",
    "        \n",
    "        # Backpropagate and adjust weights\n",
    "        loss.backward()\n",
    "        optimizer.step()"
   ]
  }
 ],
 "metadata": {
  "kernelspec": {
   "display_name": "Python 3",
   "language": "python",
   "name": "python3"
  },
  "language_info": {
   "codemirror_mode": {
    "name": "ipython",
    "version": 3
   },
   "file_extension": ".py",
   "mimetype": "text/x-python",
   "name": "python",
   "nbconvert_exporter": "python",
   "pygments_lexer": "ipython3",
   "version": "3.7.7"
  }
 },
 "nbformat": 4,
 "nbformat_minor": 4
}
