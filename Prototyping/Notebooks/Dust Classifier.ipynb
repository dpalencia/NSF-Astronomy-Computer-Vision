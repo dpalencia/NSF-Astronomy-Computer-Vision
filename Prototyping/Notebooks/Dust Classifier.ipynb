{
 "cells": [
  {
   "cell_type": "code",
   "execution_count": 227,
   "metadata": {},
   "outputs": [],
   "source": [
    "import numpy as np \n",
    "import pandas as pd\n",
    "import matplotlib.pyplot as plt\n",
    "from sklearn.model_selection import StratifiedKFold, cross_validate, train_test_split, cross_val_score, cross_val_predict\n",
    "from sklearn.metrics import accuracy_score, roc_curve\n",
    "from sklearn.linear_model import LogisticRegression as LR\n",
    "from sklearn import metrics \n",
    "from sklearn.model_selection import train_test_split\n",
    "from sklearn.metrics import precision_score\n",
    "from sklearn.metrics import recall_score\n",
    "from sklearn.metrics import roc_auc_score\n",
    "from sklearn.model_selection import LeaveOneOut"
   ]
  },
  {
   "cell_type": "code",
   "execution_count": 205,
   "metadata": {},
   "outputs": [],
   "source": [
    "data = pd.read_csv(\"../Data/10-14_features_filenames.csv\")\n",
    "data = data.dropna()\n",
    "data = data.sample(frac=1)"
   ]
  },
  {
   "cell_type": "code",
   "execution_count": 206,
   "metadata": {},
   "outputs": [
    {
     "data": {
      "text/html": [
       "<div>\n",
       "<style scoped>\n",
       "    .dataframe tbody tr th:only-of-type {\n",
       "        vertical-align: middle;\n",
       "    }\n",
       "\n",
       "    .dataframe tbody tr th {\n",
       "        vertical-align: top;\n",
       "    }\n",
       "\n",
       "    .dataframe thead th {\n",
       "        text-align: right;\n",
       "    }\n",
       "</style>\n",
       "<table border=\"1\" class=\"dataframe\">\n",
       "  <thead>\n",
       "    <tr style=\"text-align: right;\">\n",
       "      <th></th>\n",
       "      <th>canny_mean</th>\n",
       "      <th>canny_var</th>\n",
       "      <th>lapl_mean</th>\n",
       "      <th>lapl_var</th>\n",
       "      <th>image_mean</th>\n",
       "      <th>image_var</th>\n",
       "      <th>class</th>\n",
       "      <th>file_name</th>\n",
       "    </tr>\n",
       "  </thead>\n",
       "  <tbody>\n",
       "    <tr>\n",
       "      <th>1314</th>\n",
       "      <td>51.208606</td>\n",
       "      <td>10435.873170</td>\n",
       "      <td>-0.001496</td>\n",
       "      <td>492.567363</td>\n",
       "      <td>57.651936</td>\n",
       "      <td>834.785225</td>\n",
       "      <td>no_dust</td>\n",
       "      <td>ESP_036503_1830_RED.NOMAP.browse-Block-12.jpg</td>\n",
       "    </tr>\n",
       "    <tr>\n",
       "      <th>774</th>\n",
       "      <td>49.782801</td>\n",
       "      <td>10216.286930</td>\n",
       "      <td>-0.000351</td>\n",
       "      <td>1400.632332</td>\n",
       "      <td>112.735055</td>\n",
       "      <td>822.330951</td>\n",
       "      <td>no_dust</td>\n",
       "      <td>ESP_011752_1115_RED.NOMAP.browse-Block-8.jpg</td>\n",
       "    </tr>\n",
       "    <tr>\n",
       "      <th>1470</th>\n",
       "      <td>0.094113</td>\n",
       "      <td>23.990047</td>\n",
       "      <td>-0.001533</td>\n",
       "      <td>81.191468</td>\n",
       "      <td>184.899508</td>\n",
       "      <td>235.312365</td>\n",
       "      <td>no_dust</td>\n",
       "      <td>ESP_037101_2655_RED.NOMAP.browse-Block-1.jpg</td>\n",
       "    </tr>\n",
       "    <tr>\n",
       "      <th>1383</th>\n",
       "      <td>78.171980</td>\n",
       "      <td>13822.996420</td>\n",
       "      <td>-0.001948</td>\n",
       "      <td>1354.542674</td>\n",
       "      <td>142.472385</td>\n",
       "      <td>1669.651440</td>\n",
       "      <td>no_dust</td>\n",
       "      <td>ESP_050933_1355_RED.NOMAP.browse-Block-12.jpg</td>\n",
       "    </tr>\n",
       "    <tr>\n",
       "      <th>1208</th>\n",
       "      <td>4.045172</td>\n",
       "      <td>1015.155379</td>\n",
       "      <td>0.000541</td>\n",
       "      <td>91.296399</td>\n",
       "      <td>235.442702</td>\n",
       "      <td>66.181007</td>\n",
       "      <td>no_dust</td>\n",
       "      <td>ESP_025105_2505_RED.NOMAP.browse-Block-10.jpg</td>\n",
       "    </tr>\n",
       "  </tbody>\n",
       "</table>\n",
       "</div>"
      ],
      "text/plain": [
       "      canny_mean     canny_var  lapl_mean     lapl_var  image_mean  \\\n",
       "1314   51.208606  10435.873170  -0.001496   492.567363   57.651936   \n",
       "774    49.782801  10216.286930  -0.000351  1400.632332  112.735055   \n",
       "1470    0.094113     23.990047  -0.001533    81.191468  184.899508   \n",
       "1383   78.171980  13822.996420  -0.001948  1354.542674  142.472385   \n",
       "1208    4.045172   1015.155379   0.000541    91.296399  235.442702   \n",
       "\n",
       "        image_var    class                                      file_name  \n",
       "1314   834.785225  no_dust  ESP_036503_1830_RED.NOMAP.browse-Block-12.jpg  \n",
       "774    822.330951  no_dust   ESP_011752_1115_RED.NOMAP.browse-Block-8.jpg  \n",
       "1470   235.312365  no_dust   ESP_037101_2655_RED.NOMAP.browse-Block-1.jpg  \n",
       "1383  1669.651440  no_dust  ESP_050933_1355_RED.NOMAP.browse-Block-12.jpg  \n",
       "1208    66.181007  no_dust  ESP_025105_2505_RED.NOMAP.browse-Block-10.jpg  "
      ]
     },
     "execution_count": 206,
     "metadata": {},
     "output_type": "execute_result"
    }
   ],
   "source": [
    "data.head()"
   ]
  },
  {
   "cell_type": "code",
   "execution_count": 207,
   "metadata": {},
   "outputs": [
    {
     "data": {
      "text/plain": [
       "no_dust    1149\n",
       "dust        396\n",
       "Name: class, dtype: int64"
      ]
     },
     "execution_count": 207,
     "metadata": {},
     "output_type": "execute_result"
    }
   ],
   "source": [
    "data[\"class\"].value_counts()"
   ]
  },
  {
   "cell_type": "code",
   "execution_count": 294,
   "metadata": {},
   "outputs": [],
   "source": [
    "# Use a simple regex to get unique HiRise ID location ID numbers.\n",
    "# So that we can group images of the same region together.\n",
    "\n",
    "# Separate out the digits which identify the photographed region:\n",
    "# oooooo_tttt, i.e.\n",
    "# <orbit_number>_<target_code>\n",
    "from sklearn.model_selection import GroupKFold\n",
    "import re\n",
    "def target_regex(filename):\n",
    "    region_string = re.search(\"[0-9]{6}_[0-9]{4}\", filename)\n",
    "    return int(region_string.group())\n",
    "\n",
    "data[\"target_location\"] = data[\"file_name\"].apply(target_regex)"
   ]
  },
  {
   "cell_type": "code",
   "execution_count": 296,
   "metadata": {},
   "outputs": [
    {
     "name": "stdout",
     "output_type": "stream",
     "text": [
      "Number of images: 402\n",
      "Unique image groups: 402\n"
     ]
    }
   ],
   "source": [
    "# Define image groups, input variables, output variables\n",
    "groups = np.array(data[\"target_location\"])\n",
    "x = np.array(data.iloc[:,0:5])\n",
    "y = np.array(data[\"class\"])\n",
    "y = [1 if name == \"dust\" else 0 for name in y]\n",
    "print(\"Number of images: \" + str(len(np.unique(groups))))\n",
    "print(\"Unique image groups: \" + str(len(np.unique(groups))))"
   ]
  },
  {
   "cell_type": "code",
   "execution_count": 299,
   "metadata": {},
   "outputs": [
    {
     "data": {
      "text/plain": [
       "0.34464751958224543"
      ]
     },
     "execution_count": 299,
     "metadata": {},
     "output_type": "execute_result"
    }
   ],
   "source": [
    "# Show the 34% class imbalance\n",
    "np.sum(data[\"class\"] == \"dust\") / np.sum(data[\"class\"] == \"no_dust\")"
   ]
  },
  {
   "cell_type": "code",
   "execution_count": 300,
   "metadata": {},
   "outputs": [],
   "source": [
    "# Use 10 folds,\n",
    "# splitting the dataset into  CV sections\n",
    "# with roughly 10 samples.\n",
    "# Get accuracy, recall, precision.\n",
    "# Sometimes no positive predictions are made,\n",
    "# resulting in undefined precision, recall, and auc\n",
    "def cv_scores(model, x, y, label, cv, groups=None):\n",
    "    model_cv_results = cross_validate(model, x, y, cv=cv, groups=groups, scoring=[\"accuracy\", \"precision\", \"recall\", \"roc_auc\"])\n",
    "    model_cv_acc_mean = np.mean(model_cv_results[\"test_accuracy\"])\n",
    "    model_cv_precision_mean = np.mean(model_cv_results[\"test_precision\"])\n",
    "    model_cv_recall_mean = np.mean(model_cv_results[\"test_recall\"])\n",
    "    model_cv_auc_mean = np.mean(model_cv_results[\"test_roc_auc\"])\n",
    "    print(label)\n",
    "    print(\"Accuracy: \" + str(model_cv_acc_mean))\n",
    "    print(\"Precision: \" + str(model_cv_precision_mean))\n",
    "    print(\"Recall: \" + str(model_cv_recall_mean))\n",
    "    print(\"AUC: \" + str(model_cv_auc_mean))\n",
    "    "
   ]
  },
  {
   "cell_type": "code",
   "execution_count": 301,
   "metadata": {},
   "outputs": [],
   "source": [
    "# Define cv splitting objects for use in cv_scores function\n",
    "group_kfold = GroupKFold(n_splits=10)\n",
    "sfold = StratifiedKFold(10, shuffle=True)"
   ]
  },
  {
   "cell_type": "code",
   "execution_count": 302,
   "metadata": {},
   "outputs": [
    {
     "name": "stdout",
     "output_type": "stream",
     "text": [
      "Logistic Regression With No Groups\n",
      "Accuracy: 0.8168412232928363\n",
      "Precision: 0.6239745416030112\n",
      "Recall: 0.7371153846153846\n",
      "AUC: 0.8790465440356744\n"
     ]
    }
   ],
   "source": [
    "# Logistic Regression - Without GroupKFold\n",
    "lr_model = LR()\n",
    "cv_scores(lr_model, x, y, \"Logistic Regression With No Groups\", sfold)"
   ]
  },
  {
   "cell_type": "code",
   "execution_count": 303,
   "metadata": {},
   "outputs": [
    {
     "name": "stdout",
     "output_type": "stream",
     "text": [
      "Logistic Regression With Groups\n",
      "Accuracy: 0.81865521575199\n",
      "Precision: 0.6230617550991059\n",
      "Recall: 0.7488302170995578\n",
      "AUC: 0.8802468816590373\n"
     ]
    }
   ],
   "source": [
    "# Logistic Regression - With GroupKFold\n",
    "cv_scores(lr_model, x, y, \"Logistic Regression With Groups\", group_kfold, groups=groups)"
   ]
  },
  {
   "cell_type": "code",
   "execution_count": 304,
   "metadata": {
    "scrolled": true
   },
   "outputs": [
    {
     "name": "stdout",
     "output_type": "stream",
     "text": [
      "Random Forest With No Groups\n",
      "Accuracy: 0.8712023460410556\n",
      "Precision: 0.7629365504567118\n",
      "Recall: 0.7274358974358975\n",
      "AUC: 0.9248295854603062\n"
     ]
    }
   ],
   "source": [
    "# Random Forest\n",
    "from sklearn.ensemble import RandomForestClassifier\n",
    "rf = RandomForestClassifier(n_estimators = 500)\n",
    "cv_scores(rf, x, y, \"Random Forest With No Groups\", sfold)"
   ]
  },
  {
   "cell_type": "code",
   "execution_count": 305,
   "metadata": {},
   "outputs": [
    {
     "name": "stdout",
     "output_type": "stream",
     "text": [
      "Random Forest With Groups\n",
      "Accuracy: 0.8328780896522833\n",
      "Precision: 0.6858115001839877\n",
      "Recall: 0.6294112415947672\n",
      "AUC: 0.8970086924580014\n"
     ]
    }
   ],
   "source": [
    "cv_scores(rf, x, y, \"Random Forest With Groups\", group_kfold, groups)"
   ]
  },
  {
   "cell_type": "code",
   "execution_count": 306,
   "metadata": {},
   "outputs": [
    {
     "name": "stdout",
     "output_type": "stream",
     "text": [
      "Support Vector Classifier With No Groups\n",
      "Accuracy: 0.7728026811897779\n",
      "Precision: 0.5337362851423346\n",
      "Recall: 0.9344230769230769\n",
      "AUC: 0.8903773983453618\n"
     ]
    }
   ],
   "source": [
    "#Support Vector Classifier\n",
    "from sklearn.svm import SVC\n",
    "svc = SVC(random_state = 45, probability = True)\n",
    "cv_scores(svc, x, y, \"Support Vector Classifier With No Groups\", sfold)"
   ]
  },
  {
   "cell_type": "code",
   "execution_count": 307,
   "metadata": {},
   "outputs": [
    {
     "name": "stderr",
     "output_type": "stream",
     "text": [
      "C:\\Users\\dpale\\anaconda3\\lib\\site-packages\\sklearn\\metrics\\_classification.py:1221: UndefinedMetricWarning: Precision is ill-defined and being set to 0.0 due to no predicted samples. Use `zero_division` parameter to control this behavior.\n",
      "  _warn_prf(average, modifier, msg_start, len(result))\n"
     ]
    },
    {
     "name": "stdout",
     "output_type": "stream",
     "text": [
      "Support Vector Classifier With Groups\n",
      "Accuracy: 0.7506577293674068\n",
      "Precision: 0.4511363447717926\n",
      "Recall: 0.8538712367765926\n",
      "AUC: 0.8941751828528753\n"
     ]
    }
   ],
   "source": [
    "cv_scores(svc, x, y, \"Support Vector Classifier With Groups\", group_kfold, groups)"
   ]
  },
  {
   "cell_type": "code",
   "execution_count": 287,
   "metadata": {},
   "outputs": [],
   "source": [
    "def tts_predict(model, x, y):\n",
    "    x_train, x_test, y_train, y_test = train_test_split(x, y)\n",
    "    model.fit(x_train, y_train)\n",
    "    y_prob = model.predict_proba(x_test)[:,1]\n",
    "    y_predict = model.predict(x_test)\n",
    "    return y_test, y_prob, y_predict"
   ]
  },
  {
   "cell_type": "code",
   "execution_count": null,
   "metadata": {},
   "outputs": [],
   "source": [
    "# Take 1000 train/test splits, \n",
    "# calculate means of precisions and accuracies\n",
    "# from predictions.\n",
    "precision_scores = []\n",
    "recall_scores = []\n",
    "auc_scores = []\n",
    "acc_scores = []\n",
    "\n",
    "for i in range(1000):\n",
    "    y_test, y_prob, y_predict = tts_predict(rf, x, y)\n",
    "    precision_scores.append(precision_score(y_test, y_predict))\n",
    "    recall_scores.append(recall_score(y_test, y_predict))\n",
    "    auc_scores.append(roc_auc_score(y_test, y_prob))\n",
    "    acc_scores.append(accuracy_score(y_test, y_predict))\n",
    "    \n",
    "precision_mean = np.mean(precision_scores)\n",
    "recall_mean = np.mean(recall_scores)\n",
    "auc_mean = np.mean(auc_scores)\n",
    "acc_mean = np.mean(acc_scores)\n",
    "\n",
    "print(\"Random Forest Metrics - 1000 Train/Test Splits\")\n",
    "print(\"Accuracy Mean: \" + str(acc_mean))\n",
    "print(\"Precision Mean: \" + str(precision_mean))\n",
    "print(\"Recall Mean: \" + str(recall_mean))\n",
    "print(\"AUC Mean: \" + str(auc_mean))"
   ]
  },
  {
   "cell_type": "code",
   "execution_count": null,
   "metadata": {},
   "outputs": [],
   "source": [
    "precision_mean = np.mean(precision_scores)\n",
    "recall_mean = np.mean(recall_scores)\n",
    "auc_mean = np.mean(auc_scores)\n",
    "acc_mean = np.mean(acc_scores)\n",
    "\n",
    "print(\"Linear Regression Metrics - 1000 Train/Test Splits\")\n",
    "print(\"Accuracy Mean: \" + str(acc_mean))\n",
    "print(\"Precision Mean: \" + str(precision_mean))\n",
    "print(\"Recall Mean: \" + str(recall_mean))\n",
    "print(\"AUC Mean: \" + str(auc_mean))"
   ]
  },
  {
   "cell_type": "code",
   "execution_count": null,
   "metadata": {},
   "outputs": [],
   "source": [
    "from sklearn.metrics import plot_roc_curve\n",
    "fig = plt.gcf()\n",
    "fig.set_size_inches(8,6)\n",
    "fig.suptitle(\"Logistic Regression ROC Curves - 10 Splits\")\n",
    "plt.xlabel(\"FPR\")\n",
    "plt.ylabel(\"TPR\")\n",
    "plt.plot([0, 1], [0, 1], linestyle=\"dotted\")\n",
    "for i in range(10):\n",
    "    y_test, y_prob, y_predict = tts_predict(lr, x, y)\n",
    "    fpr, tpr, thresholds = metrics.roc_curve(y_test, y_prob)\n",
    "    plt.plot(fpr, tpr)"
   ]
  },
  {
   "cell_type": "code",
   "execution_count": null,
   "metadata": {},
   "outputs": [],
   "source": [
    "fig = plt.gcf()\n",
    "fig.set_size_inches(8,6)\n",
    "fig.suptitle(\"Random Forest ROC Curves - 10 Splits\")\n",
    "plt.xlabel(\"FPR\")\n",
    "plt.ylabel(\"TPR\")\n",
    "plt.plot([0, 1], [0, 1], linestyle=\"dotted\")\n",
    "for i in range(10):\n",
    "    y_test, y_prob, y_predict = tts_predict(rf, x, y)\n",
    "    fpr, tpr, thresholds = metrics.roc_curve(y_test, y_prob)\n",
    "    plt.plot(fpr, tpr)"
   ]
  },
  {
   "cell_type": "code",
   "execution_count": null,
   "metadata": {},
   "outputs": [],
   "source": [
    "fig = plt.gcf()\n",
    "fig.set_size_inches(8,6)\n",
    "fig.suptitle(\"Support Vector Classifier ROC Curves - 10 Splits\")\n",
    "plt.xlabel(\"FPR\")\n",
    "plt.ylabel(\"TPR\")\n",
    "plt.plot([0, 1], [0, 1], linestyle=\"dotted\")\n",
    "for i in range(10):\n",
    "    y_test, y_prob, y_predict = tts_predict(svc, x, y)\n",
    "    fpr, tpr, thresholds = metrics.roc_curve(y_test, y_prob)\n",
    "    plt.plot(fpr, tpr)"
   ]
  }
 ],
 "metadata": {
  "kernelspec": {
   "display_name": "Python 3",
   "language": "python",
   "name": "python3"
  },
  "language_info": {
   "codemirror_mode": {
    "name": "ipython",
    "version": 3
   },
   "file_extension": ".py",
   "mimetype": "text/x-python",
   "name": "python",
   "nbconvert_exporter": "python",
   "pygments_lexer": "ipython3",
   "version": "3.7.7"
  }
 },
 "nbformat": 4,
 "nbformat_minor": 4
}
