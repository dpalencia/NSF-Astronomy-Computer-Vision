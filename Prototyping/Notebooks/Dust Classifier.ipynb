{
 "cells": [
  {
   "cell_type": "code",
   "execution_count": 252,
   "metadata": {},
   "outputs": [],
   "source": [
    "import numpy as np \n",
    "import pandas as pd\n",
    "import matplotlib.pyplot as plt\n",
    "from sklearn.model_selection import StratifiedKFold, cross_validate, train_test_split, cross_val_score, cross_val_predict\n",
    "from sklearn.metrics import accuracy_score, roc_curve\n",
    "from sklearn.linear_model import LogisticRegression as lr\n",
    "from sklearn import metrics \n",
    "from sklearn.model_selection import train_test_split\n",
    "from sklearn.metrics import precision_score\n",
    "from sklearn.metrics import recall_score\n",
    "from sklearn.metrics import roc_auc_score\n",
    "from sklearn.model_selection import LeaveOneOut"
   ]
  },
  {
   "cell_type": "code",
   "execution_count": 254,
   "metadata": {},
   "outputs": [],
   "source": [
    "data = pd.read_csv(\"../Data/10-1_dust_classes.csv\")\n",
    "data = data.dropna()"
   ]
  },
  {
   "cell_type": "code",
   "execution_count": 255,
   "metadata": {},
   "outputs": [
    {
     "data": {
      "text/html": [
       "<div>\n",
       "<style scoped>\n",
       "    .dataframe tbody tr th:only-of-type {\n",
       "        vertical-align: middle;\n",
       "    }\n",
       "\n",
       "    .dataframe tbody tr th {\n",
       "        vertical-align: top;\n",
       "    }\n",
       "\n",
       "    .dataframe thead th {\n",
       "        text-align: right;\n",
       "    }\n",
       "</style>\n",
       "<table border=\"1\" class=\"dataframe\">\n",
       "  <thead>\n",
       "    <tr style=\"text-align: right;\">\n",
       "      <th></th>\n",
       "      <th>Unnamed: 0</th>\n",
       "      <th>0</th>\n",
       "      <th>1</th>\n",
       "      <th>2</th>\n",
       "      <th>3</th>\n",
       "      <th>4</th>\n",
       "      <th>5</th>\n",
       "      <th>class</th>\n",
       "    </tr>\n",
       "  </thead>\n",
       "  <tbody>\n",
       "    <tr>\n",
       "      <th>0</th>\n",
       "      <td>0.0</td>\n",
       "      <td>0.471296</td>\n",
       "      <td>119.958439</td>\n",
       "      <td>-0.000956</td>\n",
       "      <td>32.144038</td>\n",
       "      <td>169.758423</td>\n",
       "      <td>1053.143289</td>\n",
       "      <td>dust</td>\n",
       "    </tr>\n",
       "    <tr>\n",
       "      <th>1</th>\n",
       "      <td>1.0</td>\n",
       "      <td>0.085602</td>\n",
       "      <td>21.821133</td>\n",
       "      <td>0.000091</td>\n",
       "      <td>26.659139</td>\n",
       "      <td>163.944968</td>\n",
       "      <td>387.122159</td>\n",
       "      <td>dust</td>\n",
       "    </tr>\n",
       "    <tr>\n",
       "      <th>2</th>\n",
       "      <td>2.0</td>\n",
       "      <td>0.063896</td>\n",
       "      <td>16.289339</td>\n",
       "      <td>0.000134</td>\n",
       "      <td>27.413486</td>\n",
       "      <td>193.381032</td>\n",
       "      <td>483.033577</td>\n",
       "      <td>dust</td>\n",
       "    </tr>\n",
       "    <tr>\n",
       "      <th>3</th>\n",
       "      <td>3.0</td>\n",
       "      <td>0.028911</td>\n",
       "      <td>7.371473</td>\n",
       "      <td>0.000451</td>\n",
       "      <td>26.858970</td>\n",
       "      <td>146.070319</td>\n",
       "      <td>749.250395</td>\n",
       "      <td>dust</td>\n",
       "    </tr>\n",
       "    <tr>\n",
       "      <th>4</th>\n",
       "      <td>4.0</td>\n",
       "      <td>0.000000</td>\n",
       "      <td>0.000000</td>\n",
       "      <td>-0.002283</td>\n",
       "      <td>3.692830</td>\n",
       "      <td>196.721007</td>\n",
       "      <td>1060.959619</td>\n",
       "      <td>dust</td>\n",
       "    </tr>\n",
       "  </tbody>\n",
       "</table>\n",
       "</div>"
      ],
      "text/plain": [
       "   Unnamed: 0         0           1         2          3           4  \\\n",
       "0         0.0  0.471296  119.958439 -0.000956  32.144038  169.758423   \n",
       "1         1.0  0.085602   21.821133  0.000091  26.659139  163.944968   \n",
       "2         2.0  0.063896   16.289339  0.000134  27.413486  193.381032   \n",
       "3         3.0  0.028911    7.371473  0.000451  26.858970  146.070319   \n",
       "4         4.0  0.000000    0.000000 -0.002283   3.692830  196.721007   \n",
       "\n",
       "             5 class  \n",
       "0  1053.143289  dust  \n",
       "1   387.122159  dust  \n",
       "2   483.033577  dust  \n",
       "3   749.250395  dust  \n",
       "4  1060.959619  dust  "
      ]
     },
     "execution_count": 255,
     "metadata": {},
     "output_type": "execute_result"
    }
   ],
   "source": [
    "data.head()"
   ]
  },
  {
   "cell_type": "code",
   "execution_count": 256,
   "metadata": {},
   "outputs": [
    {
     "data": {
      "text/plain": [
       "no_dust    1149\n",
       "dust        396\n",
       "Name: class, dtype: int64"
      ]
     },
     "execution_count": 256,
     "metadata": {},
     "output_type": "execute_result"
    }
   ],
   "source": [
    "data[\"class\"].value_counts()"
   ]
  },
  {
   "cell_type": "code",
   "execution_count": 257,
   "metadata": {},
   "outputs": [
    {
     "data": {
      "text/plain": [
       "0.34464751958224543"
      ]
     },
     "execution_count": 257,
     "metadata": {},
     "output_type": "execute_result"
    }
   ],
   "source": [
    "# Show the 34% class imbalance\n",
    "np.sum(data[\"class\"] == \"dust\") / np.sum(data[\"class\"] == \"no_dust\")"
   ]
  },
  {
   "cell_type": "code",
   "execution_count": 258,
   "metadata": {},
   "outputs": [],
   "source": [
    "lr = lr()\n",
    "x = np.array(data.iloc[:,1:7])\n",
    "y = np.array(data[\"class\"])\n",
    "y = [1 if name == \"dust\" else 0 for name in y]"
   ]
  },
  {
   "cell_type": "code",
   "execution_count": 259,
   "metadata": {},
   "outputs": [
    {
     "name": "stderr",
     "output_type": "stream",
     "text": [
      "C:\\Users\\dpale\\anaconda3\\lib\\site-packages\\sklearn\\metrics\\_classification.py:1272: UndefinedMetricWarning: Precision is ill-defined and being set to 0.0 due to no predicted samples. Use `zero_division` parameter to control this behavior.\n",
      "  _warn_prf(average, modifier, msg_start, len(result))\n",
      "C:\\Users\\dpale\\anaconda3\\lib\\site-packages\\sklearn\\metrics\\_classification.py:1272: UndefinedMetricWarning: Precision is ill-defined and being set to 0.0 due to no predicted samples. Use `zero_division` parameter to control this behavior.\n",
      "  _warn_prf(average, modifier, msg_start, len(result))\n",
      "C:\\Users\\dpale\\anaconda3\\lib\\site-packages\\sklearn\\metrics\\_classification.py:1272: UndefinedMetricWarning: Precision is ill-defined and being set to 0.0 due to no predicted samples. Use `zero_division` parameter to control this behavior.\n",
      "  _warn_prf(average, modifier, msg_start, len(result))\n",
      "C:\\Users\\dpale\\anaconda3\\lib\\site-packages\\sklearn\\metrics\\_classification.py:1272: UndefinedMetricWarning: Precision is ill-defined and being set to 0.0 due to no predicted samples. Use `zero_division` parameter to control this behavior.\n",
      "  _warn_prf(average, modifier, msg_start, len(result))\n",
      "C:\\Users\\dpale\\anaconda3\\lib\\site-packages\\sklearn\\metrics\\_classification.py:1272: UndefinedMetricWarning: Precision is ill-defined and being set to 0.0 due to no predicted samples. Use `zero_division` parameter to control this behavior.\n",
      "  _warn_prf(average, modifier, msg_start, len(result))\n",
      "C:\\Users\\dpale\\anaconda3\\lib\\site-packages\\sklearn\\metrics\\_classification.py:1272: UndefinedMetricWarning: Precision is ill-defined and being set to 0.0 due to no predicted samples. Use `zero_division` parameter to control this behavior.\n",
      "  _warn_prf(average, modifier, msg_start, len(result))\n"
     ]
    }
   ],
   "source": [
    "# Use 150 folds,\n",
    "# splitting the dataset into cross sections\n",
    "# with roughly 10 samples.\n",
    "# Get accuracy, recall, precision.\n",
    "\n",
    "# Sometimes no positive predictions are made,\n",
    "# resulting in undefined precision, recall, and auc.\n",
    "loo = LeaveOneOut()\n",
    "sfold = StratifiedKFold(150, shuffle=True)\n",
    "lr_cv_results = cross_validate(lr, x, y, cv=sfold, scoring=[\"accuracy\", \"precision\", \"recall\", \"roc_auc\"])"
   ]
  },
  {
   "cell_type": "code",
   "execution_count": 267,
   "metadata": {},
   "outputs": [
    {
     "name": "stdout",
     "output_type": "stream",
     "text": [
      "CV Scores - Averages From 150 Folds\n",
      "Accuracy: 0.884909090909091\n",
      "Precision: 0.8197777777777778\n",
      "Recall: 0.7133333333333334\n",
      "AUC: 0.935138888888889\n"
     ]
    }
   ],
   "source": [
    "lr_cv_acc_mean = np.mean(lr_cv_results[\"test_accuracy\"])\n",
    "lr_cv_precision_mean = np.mean(lr_cv_results[\"test_precision\"])\n",
    "lr_cv_recall_mean = np.mean(lr_cv_results[\"test_recall\"])\n",
    "lr_cv_auc_mean = np.mean(lr_cv_results[\"test_roc_auc\"])\n",
    "print(\"CV Scores - Averages From 150 Folds\")\n",
    "print(\"Accuracy: \" + str(lr_cv_acc_mean))\n",
    "print(\"Precision: \" + str(lr_cv_precision_mean))\n",
    "print(\"Recall: \" + str(lr_cv_recall_mean))\n",
    "print(\"AUC: \" + str(lr_cv_auc_mean))"
   ]
  },
  {
   "cell_type": "code",
   "execution_count": 261,
   "metadata": {},
   "outputs": [],
   "source": [
    "def tts_predict(model, x, y):\n",
    "    x_train, x_test, y_train, y_test = train_test_split(x, y)\n",
    "    model.fit(x_train, y_train)\n",
    "    y_prob = model.predict_proba(x_test)[:,1]\n",
    "    y_predict = model.predict(x_test)\n",
    "    return y_test, y_prob, y_predict"
   ]
  },
  {
   "cell_type": "code",
   "execution_count": 265,
   "metadata": {},
   "outputs": [],
   "source": [
    "# Take 1000 train/test splits, \n",
    "# calculate means of precisions and accuracies\n",
    "# from predictions.\n",
    "precision_scores = []\n",
    "recall_scores = []\n",
    "auc_scores = []\n",
    "acc_scores = []\n",
    "\n",
    "for i in range(1000):\n",
    "    y_test, y_prob, y_predict = tts_predict(lr, x, y)\n",
    "    precision_scores.append(precision_score(y_test, y_predict))\n",
    "    recall_scores.append(recall_score(y_test, y_predict))\n",
    "    auc_scores.append(roc_auc_score(y_test, y_prob))\n",
    "    acc_scores.append(accuracy_score(y_test, y_predict))"
   ]
  },
  {
   "cell_type": "code",
   "execution_count": 269,
   "metadata": {},
   "outputs": [
    {
     "name": "stdout",
     "output_type": "stream",
     "text": [
      "Linear Regression Metrics - 1000 Train/Test Splits\n",
      "Accuracy Mean: 0.8824470284237725\n",
      "Precision Mean: 0.8115055338542311\n",
      "Recall Mean: 0.7106589143499157\n",
      "AUC Mean: 0.9330425369316737\n"
     ]
    }
   ],
   "source": [
    "precision_mean = np.mean(precision_scores)\n",
    "recall_mean = np.mean(recall_scores)\n",
    "auc_mean = np.mean(auc_scores)\n",
    "acc_mean = np.mean(acc_scores)\n",
    "\n",
    "print(\"Linear Regression Metrics - 1000 Train/Test Splits\")\n",
    "print(\"Accuracy Mean: \" + str(acc_mean))\n",
    "print(\"Precision Mean: \" + str(precision_mean))\n",
    "print(\"Recall Mean: \" + str(recall_mean))\n",
    "print(\"AUC Mean: \" + str(auc_mean))"
   ]
  },
  {
   "cell_type": "code",
   "execution_count": 271,
   "metadata": {},
   "outputs": [
    {
     "data": {
      "image/png": "[encoded data removed]",
      "text/plain": [
       "<Figure size 576x432 with 1 Axes>"
      ]
     },
     "metadata": {
      "needs_background": "light"
     },
     "output_type": "display_data"
    }
   ],
   "source": [
    "fig = plt.gcf()\n",
    "fig.set_size_inches(8,6)\n",
    "fig.suptitle(\"Logistic Regression ROC Curves - 10 Splits\")\n",
    "plt.xlabel(\"FPR\")\n",
    "plt.ylabel(\"TPR\")\n",
    "plt.plot([0, 1], [0, 1], linestyle=\"dotted\")\n",
    "for i in range(10):\n",
    "    y_test, y_prob, y_predict = tts_predict(lr, x, y)\n",
    "    fpr, tpr, thresholds = metrics.roc_curve(y_test, y_prob)\n",
    "    plt.plot(fpr, tpr)"
   ]
  }
 ],
 "metadata": {
  "kernelspec": {
   "display_name": "Python 3",
   "language": "python",
   "name": "python3"
  },
  "language_info": {
   "codemirror_mode": {
    "name": "ipython",
    "version": 3
   },
   "file_extension": ".py",
   "mimetype": "text/x-python",
   "name": "python",
   "nbconvert_exporter": "python",
   "pygments_lexer": "ipython3",
   "version": "3.7.6"
  }
 },
 "nbformat": 4,
 "nbformat_minor": 4
}
