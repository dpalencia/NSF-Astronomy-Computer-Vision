{
 "cells": [
  {
   "cell_type": "code",
   "execution_count": 61,
   "id": "listed-presence",
   "metadata": {},
   "outputs": [],
   "source": [
    "import pdsc\n",
    "client = pdsc.PdsClient(r\"C:\\Users\\dpale\\Desktop\\Projects\\marsvision\\pdsc\\pdsc_tables\")"
   ]
  },
  {
   "cell_type": "code",
   "execution_count": 62,
   "id": "sharp-opening",
   "metadata": {},
   "outputs": [],
   "source": [
    "metadata = client.query_by_observation_id('hirise_rdr', 'PSP_005423_1780')"
   ]
  },
  {
   "cell_type": "code",
   "execution_count": 64,
   "id": "fleet-catalyst",
   "metadata": {},
   "outputs": [
    {
     "data": {
      "text/plain": [
       "0    2007-09-23T00:22:40.000000\n",
       "1    2007-09-23T00:22:40.000000\n",
       "Name: start_time, dtype: object"
      ]
     },
     "execution_count": 64,
     "metadata": {},
     "output_type": "execute_result"
    }
   ],
   "source": [
    "import pandas as pd\n",
    "from pdsc.metadata import json_dumps\n",
    "from datetime import datetime\n",
    "dataframe = pd.read_json(json_dumps(metadata))\n",
    "datetime = dataframe[\"start_time\"][0]\n",
    "datetime[\"__datetime__\"][\"__val__\"]\n",
    "dataframe[\"start_time\"].apply(lambda datetime: datetime[\"__datetime__\"][\"__val__\"])"
   ]
  },
  {
   "cell_type": "code",
   "execution_count": null,
   "id": "designing-sense",
   "metadata": {},
   "outputs": [],
   "source": []
  }
 ],
 "metadata": {
  "kernelspec": {
   "display_name": "Python 3",
   "language": "python",
   "name": "python3"
  },
  "language_info": {
   "codemirror_mode": {
    "name": "ipython",
    "version": 3
   },
   "file_extension": ".py",
   "mimetype": "text/x-python",
   "name": "python",
   "nbconvert_exporter": "python",
   "pygments_lexer": "ipython3",
   "version": "3.7.9"
  }
 },
 "nbformat": 4,
 "nbformat_minor": 5
}
