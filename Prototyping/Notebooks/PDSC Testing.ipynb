{
 "cells": [
  {
   "cell_type": "code",
   "execution_count": 6,
   "id": "listed-presence",
   "metadata": {},
   "outputs": [],
   "source": [
    "import pdsc\n",
    "client = pdsc.PdsClient(r\"C:\\Users\\dpale\\Desktop\\Projects\\marsvision\\pdsc\\pdsc_tables\")"
   ]
  },
  {
   "cell_type": "code",
   "execution_count": 3,
   "id": "sharp-opening",
   "metadata": {},
   "outputs": [],
   "source": [
    "metadata = client.query_by_observation_id('hirise_rdr', 'ESP_039747_2325')"
   ]
  },
  {
   "cell_type": "code",
   "execution_count": 4,
   "id": "accessible-literacy",
   "metadata": {},
   "outputs": [
    {
     "output_type": "execute_result",
     "data": {
      "text/plain": [
       "(52.44305677708745, 340.619370761347)"
      ]
     },
     "metadata": {},
     "execution_count": 4
    }
   ],
   "source": [
    "rdr_localizer = pdsc.get_localizer(metadata[0]) \n",
    "rdr_localizer.pixel_to_latlon(0,0)"
   ]
  },
  {
   "cell_type": "code",
   "execution_count": 5,
   "id": "fleet-catalyst",
   "metadata": {},
   "outputs": [
    {
     "output_type": "execute_result",
     "data": {
      "text/plain": [
       "0    2015-01-18T14:33:46.000000\n",
       "1    2015-01-18T14:33:46.000000\n",
       "Name: start_time, dtype: object"
      ]
     },
     "metadata": {},
     "execution_count": 5
    }
   ],
   "source": [
    "import pandas as pd\n",
    "from pdsc.metadata import json_dumps\n",
    "from datetime import datetime\n",
    "dataframe = pd.read_json(json_dumps(metadata))\n",
    "datetime = dataframe[\"start_time\"][0]\n",
    "datetime[\"__datetime__\"][\"__val__\"]\n",
    "dataframe[\"start_time\"].apply(lambda datetime: datetime[\"__datetime__\"][\"__val__\"])"
   ]
  },
  {
   "cell_type": "code",
   "execution_count": 6,
   "id": "designing-sense",
   "metadata": {},
   "outputs": [
    {
     "output_type": "execute_result",
     "data": {
      "text/plain": [
       "PdsMetadata(instrument='hirise_rdr', corner1_latitude=52.2896, corner1_longitude=340.684, corner2_latitude=52.287, corner2_longitude=340.65, corner3_latitude=52.4425, corner3_longitude=340.619, corner4_latitude=52.4451, corner4_longitude=340.653, description='Gully monitoring                                                           ', emission_angle=0.98486, file_name_specification='RDR/ESP/ORB_039700_039799/ESP_039747_2325/ESP_039747_2325_COLOR.JP2', incidence_angle=84.6525, line_projection_offset=6195540.0, lines=18683, local_time=14.6053, map_projection_type='EQUIRECTANGULAR    ', map_resolution=118138.0, map_scale=0.5, maximum_latitude=52.4483, maximum_longitude=340.753, minimum_latitude=52.2812, minimum_longitude=340.568, mission_phase_name='Extended Science Phase        ', north_azimuth=270.0, observation_id='ESP_039747_2325', observation_start_sclk=1106058865.20032, observation_start_time=datetime.datetime(2015, 1, 18, 14, 33, 46), orbit_number=39747, phase_angle=85.526, product_id='ESP_039747_2325_COLOR', product_version_id='1  ', projection_center_latitude=50.0, projection_center_longitude=180.0, sample_projection_offset=-12197100.0, samples=4984, sclk_start=1106058865.26169, sclk_stop=1106058868.39085, slant_distance=308458.0, solar_distance=208107093909.47702, solar_longitude=274.576, spacecraft_altitude=308274.0, start_time=datetime.datetime(2015, 1, 18, 14, 33, 46), stereo_flag='NO ', stop_time=datetime.datetime(2015, 1, 18, 14, 33, 49), sub_solar_azimuth=126.374, sub_solar_latitude=-25.108, sub_solar_longitude=301.573, sub_spacecraft_latitude=52.402, sub_spacecraft_longitude=340.772, target_center_distance=3687980.0, target_name='MARS                            ', volume_id='MROHR_0001')"
      ]
     },
     "metadata": {},
     "execution_count": 6
    }
   ],
   "source": [
    "metadata[0]"
   ]
  },
  {
   "cell_type": "code",
   "execution_count": 10,
   "id": "nuclear-subcommittee",
   "metadata": {},
   "outputs": [
    {
     "output_type": "execute_result",
     "data": {
      "text/plain": [
       "PdsMetadata(instrument='hirise_rdr', corner1_latitude=52.2896, corner1_longitude=340.684, corner2_latitude=52.287, corner2_longitude=340.65, corner3_latitude=52.4425, corner3_longitude=340.619, corner4_latitude=52.4451, corner4_longitude=340.653, description='Gully monitoring                                                           ', emission_angle=0.98486, file_name_specification='RDR/ESP/ORB_039700_039799/ESP_039747_2325/ESP_039747_2325_COLOR.JP2', incidence_angle=84.6525, line_projection_offset=6195540.0, lines=18683, local_time=14.6053, map_projection_type='EQUIRECTANGULAR    ', map_resolution=118138.0, map_scale=0.5, maximum_latitude=52.4483, maximum_longitude=340.753, minimum_latitude=52.2812, minimum_longitude=340.568, mission_phase_name='Extended Science Phase        ', north_azimuth=270.0, observation_id='ESP_039747_2325', observation_start_sclk=1106058865.20032, observation_start_time=datetime.datetime(2015, 1, 18, 14, 33, 46), orbit_number=39747, phase_angle=85.526, product_id='ESP_039747_2325_COLOR', product_version_id='1  ', projection_center_latitude=50.0, projection_center_longitude=180.0, sample_projection_offset=-12197100.0, samples=4984, sclk_start=1106058865.26169, sclk_stop=1106058868.39085, slant_distance=308458.0, solar_distance=208107093909.47702, solar_longitude=274.576, spacecraft_altitude=308274.0, start_time=datetime.datetime(2015, 1, 18, 14, 33, 46), stereo_flag='NO ', stop_time=datetime.datetime(2015, 1, 18, 14, 33, 49), sub_solar_azimuth=126.374, sub_solar_latitude=-25.108, sub_solar_longitude=301.573, sub_spacecraft_latitude=52.402, sub_spacecraft_longitude=340.772, target_center_distance=3687980.0, target_name='MARS                            ', volume_id='MROHR_0001')"
      ]
     },
     "metadata": {},
     "execution_count": 10
    }
   ],
   "source": [
    "metadata[0]"
   ]
  },
  {
   "cell_type": "code",
   "execution_count": 9,
   "metadata": {},
   "outputs": [],
   "source": [
    "metadata_list = client.query('hirise_rdr')"
   ]
  },
  {
   "source": [
    "import numpy as np\n",
    "import math\n",
    "# Prototyped code to get a random sample of PDSC metadata items.\n",
    "\n",
    "def get_random_indices(n, index_range):\n",
    "    \"\"\"\n",
    "        Get n random indices, in range [0, index_range)\n",
    "        Get a sample of random indices between 0 and n_samples.\n",
    "    \"\"\"\n",
    "    random_indices = (np.random.rand(n) * index_range) // 1\n",
    "    return random_indices.astype(int)\n",
    "\n",
    "def get_red_metadata_items(metadata_list):\n",
    "    \"\"\"\n",
    "        Filters out non-RED items.\n",
    "    \n",
    "        Returns metadata for only RED items after a query.\n",
    "    \"\"\"\n",
    "    return [m for m in metadata_list if 'RED' in m.product_id]\n",
    "\n",
    "def get_random_metadata_items(n_samples, client):\n",
    "    \"\"\"\n",
    "        Get a random sample of metadata items\n",
    "    \"\"\"\n",
    "    metadata_list = client.query('hirise_rdr')\n",
    "    red_metadata_list = get_red_metadata_items(metadata_list)\n",
    "    random_indices = get_random_indices(n_samples, len(red_metadata_list))\n",
    "    observation_id_list = np.array([m.observation_id for m in red_metadata_list])\n",
    "    random_observation_ids = observation_id_list[random_indices]\n",
    "    print(random_observation_ids)\n",
    "    random_metadata_items = client.query_by_observation_id(\"hirise_rdr\", random_observation_ids)\n",
    "    print(random_metadata_items)\n",
    "    return get_red_metadata_items(random_metadata_items)\n",
    "\n",
    "\n",
    "\n",
    "\n",
    "random_metadata_items = get_random_metadata_items(10, client)"
   ],
   "cell_type": "code",
   "metadata": {
    "tags": [
     "outputPrepend"
    ]
   },
   "execution_count": 17,
   "outputs": [
    {
     "output_type": "stream",
     "name": "stdout",
     "text": [
      "5, observation_id='ESP_036465_2555', observation_start_sclk=1083966529.14286, observation_start_time=datetime.datetime(2014, 5, 7, 21, 48, 11), orbit_number=36465, phase_angle=58.7397, product_id='ESP_036465_2555_RED  ', product_version_id='1  ', projection_center_latitude=90.0, projection_center_longitude=0.0, sample_projection_offset=1700140.0, samples=40243, sclk_start=1083966529.261, sclk_stop=1083966535.39116, slant_distance=317784.0, solar_distance=238325863790.877, solar_longitude=127.305, spacecraft_altitude=317693.0, start_time=datetime.datetime(2014, 5, 7, 21, 48, 11), stereo_flag='NO ', stop_time=datetime.datetime(2014, 5, 7, 21, 48, 17), sub_solar_azimuth=215.702, sub_solar_latitude=19.7914, sub_solar_longitude=239.101, sub_spacecraft_latitude=75.4963, sub_spacecraft_longitude=281.35, target_center_distance=3691880.0, target_name='MARS                            ', volume_id='MROHR_0001'), PdsMetadata(instrument='hirise_rdr', corner1_latitude=-15.2719, corner1_longitude=131.928, corner2_latitude=-15.2744, corner2_longitude=131.904, corner3_latitude=-15.0288, corner3_longitude=131.876, corner4_latitude=-15.0263, corner4_longitude=131.899, description='Herschel Crater east dune monitoring                                       ', emission_angle=29.2171, file_name_specification='RDR/ESP/ORB_042100_042199/ESP_042102_1645/ESP_042102_1645_COLOR.JP2', incidence_angle=42.585, line_projection_offset=-3561530.0, lines=58805, local_time=14.4596, map_projection_type='EQUIRECTANGULAR    ', map_resolution=237005.0, map_scale=0.25, maximum_latitude=-15.0222, maximum_longitude=131.974, minimum_latitude=-15.279, minimum_longitude=131.841, mission_phase_name='Extended Science Phase        ', north_azimuth=270.0, observation_id='ESP_042102_1645', observation_start_sclk=1121912589.63157, observation_start_time=datetime.datetime(2015, 7, 21, 2, 22, 28), orbit_number=42102, phase_angle=68.3227, product_id='ESP_042102_1645_COLOR', product_version_id='1  ', projection_center_latitude=-15.0, projection_center_longitude=180.0, sample_projection_offset=11017000.0, samples=11919, sclk_start=1121912590.00921, sclk_stop=1121912594.53615, slant_distance=293087.0, solar_distance=238680410744.436, solar_longitude=15.869, spacecraft_altitude=258120.99999999997, start_time=datetime.datetime(2015, 7, 21, 2, 22, 28), stereo_flag='NO ', stop_time=datetime.datetime(2015, 7, 21, 2, 22, 33), sub_solar_azimuth=208.202, sub_solar_latitude=6.6841, sub_solar_longitude=95.008, sub_spacecraft_latitude=-14.9063, sub_spacecraft_longitude=134.211, target_center_distance=3654680.0, target_name='MARS                            ', volume_id='MROHR_0001'), PdsMetadata(instrument='hirise_rdr', corner1_latitude=-15.2678, corner1_longitude=131.974, corner2_latitude=-15.279, corner2_longitude=131.869, corner3_latitude=-15.0334, corner3_longitude=131.841, corner4_latitude=-15.0222, corner4_longitude=131.945, description='Herschel Crater east dune monitoring                                       ', emission_angle=29.2171, file_name_specification='RDR/ESP/ORB_042100_042199/ESP_042102_1645/ESP_042102_1645_RED.JP2  ', incidence_angle=42.585, line_projection_offset=-3560330.0, lines=60866, local_time=14.4596, map_projection_type='EQUIRECTANGULAR    ', map_resolution=237005.0, map_scale=0.25, maximum_latitude=-15.0222, maximum_longitude=131.974, minimum_latitude=-15.279, minimum_longitude=131.841, mission_phase_name='Extended Science Phase        ', north_azimuth=270.0, observation_id='ESP_042102_1645', observation_start_sclk=1121912589.63157, observation_start_time=datetime.datetime(2015, 7, 21, 2, 22, 28), orbit_number=42102, phase_angle=68.3227, product_id='ESP_042102_1645_RED  ', product_version_id='1  ', projection_center_latitude=-15.0, projection_center_longitude=180.0, sample_projection_offset=11025100.0, samples=30558, sclk_start=1121912590.07014, sclk_stop=1121912594.49049, slant_distance=293087.0, solar_distance=238680410744.436, solar_longitude=15.869, spacecraft_altitude=258120.99999999997, start_time=datetime.datetime(2015, 7, 21, 2, 22, 29), stereo_flag='NO ', stop_time=datetime.datetime(2015, 7, 21, 2, 22, 33), sub_solar_azimuth=208.197, sub_solar_latitude=6.6841, sub_solar_longitude=95.008, sub_spacecraft_latitude=-14.9063, sub_spacecraft_longitude=134.211, target_center_distance=3654680.0, target_name='MARS                            ', volume_id='MROHR_0001'), PdsMetadata(instrument='hirise_rdr', corner1_latitude=-45.1013, corner1_longitude=314.985, corner2_latitude=-45.1032, corner2_longitude=314.959, corner3_latitude=-44.9303, corner3_longitude=314.932, corner4_latitude=-44.9283, corner4_longitude=314.957, description='Gullies in Hooke Crater                                                    ', emission_angle=6.07078, file_name_specification='RDR/ESP/ORB_047200_047299/ESP_047291_1345/ESP_047291_1345_COLOR.JP2', incidence_angle=54.7628, line_projection_offset=-10621200.0, lines=41349, local_time=15.5183, map_projection_type='EQUIRECTANGULAR    ', map_resolution=236398.0, map_scale=0.25, maximum_latitude=-44.9252, maximum_longitude=315.034, minimum_latitude=-45.107, minimum_longitude=314.896, mission_phase_name='Extended Science Phase        ', north_azimuth=270.0, observation_id='ESP_047291_1345', observation_start_sclk=1156844717.26306, observation_start_time=datetime.datetime(2016, 8, 28, 9, 44, 33), orbit_number=47291, phase_angle=60.435, product_id='ESP_047291_1345_COLOR', product_version_id='1  ', projection_center_latitude=-45.0, projection_center_longitude=180.0, sample_projection_offset=-22555100.0, samples=8719, sclk_start=1156844717.29186, sclk_stop=1156844720.54855, slant_distance=257503.0, solar_distance=210632305966.893, solar_longitude=212.209, spacecraft_altitude=256411.0, start_time=datetime.datetime(2016, 8, 28, 9, 44, 33), stereo_flag='NO ', stop_time=datetime.datetime(2016, 8, 28, 9, 44, 37), sub_solar_azimuth=198.287, sub_solar_latitude=-13.1141, sub_solar_longitude=262.185, sub_spacecraft_latitude=-44.9904, sub_spacecraft_longitude=315.564, target_center_distance=3639240.0, target_name='MARS                            ', volume_id='MROHR_0001'), PdsMetadata(instrument='hirise_rdr', corner1_latitude=-45.0981, corner1_longitude=315.034, corner2_latitude=-45.107, corner2_longitude=314.922, corner3_latitude=-44.934, corner3_longitude=314.896, corner4_latitude=-44.9252, corner4_longitude=315.006, description='Gullies in Hooke Crater                                                    ', emission_angle=6.07078, file_name_specification='RDR/ESP/ORB_047200_047299/ESP_047291_1345/ESP_047291_1345_RED.JP2  ', incidence_angle=54.7628, line_projection_offset=-10620200.0, lines=42965, local_time=15.5183, map_projection_type='EQUIRECTANGULAR    ', map_resolution=236398.0, map_scale=0.25, maximum_latitude=-44.9252, maximum_longitude=315.034, minimum_latitude=-45.107, minimum_longitude=314.896, mission_phase_name='Extended Science Phase        ', north_azimuth=270.0, observation_id='ESP_047291_1345', observation_start_sclk=1156844717.26306, observation_start_time=datetime.datetime(2016, 8, 28, 9, 44, 33), orbit_number=47291, phase_angle=60.435, product_id='ESP_047291_1345_RED  ', product_version_id='1  ', projection_center_latitude=-45.0, projection_center_longitude=180.0, sample_projection_offset=-22549000.0, samples=23180, sclk_start=1156844717.34502, sclk_stop=1156844720.5087, slant_distance=257503.0, solar_distance=210632305966.893, solar_longitude=212.209, spacecraft_altitude=256411.0, start_time=datetime.datetime(2016, 8, 28, 9, 44, 33), stereo_flag='NO ', stop_time=datetime.datetime(2016, 8, 28, 9, 44, 36), sub_solar_azimuth=198.281, sub_solar_latitude=-13.1141, sub_solar_longitude=262.185, sub_spacecraft_latitude=-44.9904, sub_spacecraft_longitude=315.564, target_center_distance=3639240.0, target_name='MARS                            ', volume_id='MROHR_0001'), PdsMetadata(instrument='hirise_rdr', corner1_latitude=31.773, corner1_longitude=349.298, corner2_latitude=31.7626, corner2_longitude=349.167, corner3_latitude=32.202, corner3_longitude=349.12, corner4_latitude=32.2124, corner4_longitude=349.253, description='Terrain south of Eden Patera                                               ', emission_angle=27.5924, file_name_specification='RDR/ESP/ORB_055600_055699/ESP_055623_2125/ESP_055623_2125_RED.JP2  ', incidence_angle=62.5104, line_projection_offset=3813102.5, lines=53242, local_time=15.5857, map_projection_type='EQUIRECTANGULAR    ', map_resolution=118373.789, map_scale=0.5, maximum_latitude=32.2124, maximum_longitude=349.298, minimum_latitude=31.7626, minimum_longitude=349.12, mission_phase_name='Extended Science Phase        ', north_azimuth=270.0, observation_id='ESP_055623_2125', observation_start_sclk=1212942210.23126, observation_start_time=datetime.datetime(2018, 6, 8, 16, 22, 41), orbit_number=55623, phase_angle=37.377, product_id='ESP_055623_2125_RED  ', product_version_id='1  ', projection_center_latitude=30.0, projection_center_longitude=180.0, sample_projection_offset=-17337282.0, samples=18285, sclk_start=1212942210.34692, sclk_stop=1212942218.59242, slant_distance=325857.0, solar_distance=216279625585.818, solar_longitude=189.756, spacecraft_altitude=292115.0, start_time=datetime.datetime(2018, 6, 8, 16, 22, 41), stereo_flag='NO ', stop_time=datetime.datetime(2018, 6, 8, 16, 22, 50), sub_solar_azimuth=155.569, sub_solar_latitude=-4.1366, sub_solar_longitude=295.417, sub_spacecraft_latitude=31.7654, sub_spacecraft_longitude=346.446, target_center_distance=3679300.0, target_name='MARS                            ', volume_id='MROHR_0001'), PdsMetadata(instrument='hirise_rdr', corner1_latitude=76.4217, corner1_longitude=58.6162, corner2_latitude=76.4169, corner2_longitude=58.526, corner3_latitude=76.5731, corner3_longitude=58.3715, corner4_latitude=76.578, corner4_longitude=58.4627, description='Dunes                                                                      ', emission_angle=0.18061, file_name_specification='RDR/ESP/ORB_060800_060899/ESP_060895_2565/ESP_060895_2565_COLOR.JP2', incidence_angle=57.8931, line_projection_offset=-1662403.5, lines=17119, local_time=14.1429, map_projection_type='POLAR STEREOGRAPHIC', map_resolution=235703.219, map_scale=0.25, maximum_latitude=76.587, maximum_longitude=58.7943, minimum_latitude=76.409, minimum_longitude=58.2375, mission_phase_name='Extended Science Phase        ', north_azimuth=211.5055, observation_id='ESP_060895_2565', observation_start_sclk=1248432389.44411, observation_start_time=datetime.datetime(2019, 7, 24, 10, 45, 39), orbit_number=60895, phase_angle=58.0605, product_id='ESP_060895_2565_COLOR', product_version_id='1  ', projection_center_latitude=90.0, projection_center_longitude=0.0, sample_projection_offset=-2707255.5, samples=37996, sclk_start=1248432389.47627, sclk_stop=1248432393.00315, slant_distance=315145.0, solar_distance=248449151701.146, solar_longitude=56.914, spacecraft_altitude=315145.0, start_time=datetime.datetime(2019, 7, 24, 10, 45, 39), stereo_flag='NO ', stop_time=datetime.datetime(2019, 7, 24, 10, 45, 42), sub_solar_azimuth=67.4345, sub_solar_latitude=20.8954, sub_solar_longitude=26.3524, sub_spacecraft_latitude=76.5117, sub_spacecraft_longitude=58.5116, target_center_distance=3690030.0, target_name='MARS                            ', volume_id='MROHR_0001'), PdsMetadata(instrument='hirise_rdr', corner1_latitude=76.4306, corner1_longitude=58.7943, corner2_latitude=76.409, corner2_longitude=58.3935, corner3_latitude=76.5652, corner3_longitude=58.2375, corner4_latitude=76.587, corner4_longitude=58.6428, description='Dunes                                                                      ', emission_angle=0.18061, file_name_specification='RDR/ESP/ORB_060800_060899/ESP_060895_2565/ESP_060895_2565_RED.JP2  ', incidence_angle=57.8931, line_projection_offset=-1652706.5, lines=34082, local_time=14.1429, map_projection_type='POLAR STEREOGRAPHIC', map_resolution=235703.219, map_scale=0.25, maximum_latitude=76.587, maximum_longitude=58.7943, minimum_latitude=76.409, minimum_longitude=58.2375, mission_phase_name='Extended Science Phase        ', north_azimuth=211.4841, observation_id='ESP_060895_2565', observation_start_sclk=1248432389.44411, observation_start_time=datetime.datetime(2019, 7, 24, 10, 45, 39), orbit_number=60895, phase_angle=58.0605, product_id='ESP_060895_2565_RED  ', product_version_id='1  ', projection_center_latitude=90.0, projection_center_longitude=0.0, sample_projection_offset=-2704785.5, samples=43676, sclk_start=1248432389.54776, sclk_stop=1248432392.61235, slant_distance=315145.0, solar_distance=248449151701.146, solar_longitude=56.914, spacecraft_altitude=315145.0, start_time=datetime.datetime(2019, 7, 24, 10, 45, 39), stereo_flag='NO ', stop_time=datetime.datetime(2019, 7, 24, 10, 45, 42), sub_solar_azimuth=67.436, sub_solar_latitude=20.8954, sub_solar_longitude=26.3524, sub_spacecraft_latitude=76.5117, sub_spacecraft_longitude=58.5116, target_center_distance=3690030.0, target_name='MARS                            ', volume_id='MROHR_0001'), PdsMetadata(instrument='hirise_rdr', corner1_latitude=-6.2486, corner1_longitude=286.12, corner2_latitude=-6.2508, corner2_longitude=286.102, corner3_latitude=-5.9859, corner3_longitude=286.07, corner4_latitude=-5.9837, corner4_longitude=286.088, description='Northwest Candor Mensa                                                     ', emission_angle=0.2771, file_name_specification='RDR/PSP/ORB_004100_004199/PSP_004186_1740/PSP_004186_1740_COLOR.JP2', incidence_angle=47.3439, line_projection_offset=-1418880.0, lines=63313, local_time=15.0321, map_projection_type='EQUIRECTANGULAR    ', map_resolution=237088.0, map_scale=0.25, maximum_latitude=-5.9797, maximum_longitude=286.156, minimum_latitude=-6.2554, minimum_longitude=286.034, mission_phase_name='Primary Science Phase         ', north_azimuth=270.0, observation_id='PSP_004186_1740', observation_start_sclk=866646065.10637, observation_start_time=datetime.datetime(2007, 6, 18, 15, 0, 45), orbit_number=4186, phase_angle=47.5731, product_id='PSP_004186_1740_COLOR', product_version_id='3  ', projection_center_latitude=-5.0, projection_center_longitude=180.0, sample_projection_offset=-25052200.0, samples=11949, sclk_start=866646065.13604, sclk_stop=866646070.23027, slant_distance=263401.0, solar_distance=206878895391.03, solar_longitude=260.004, spacecraft_altitude=263071.0, start_time=datetime.datetime(2007, 6, 18, 15, 0, 45), stereo_flag='YES', stop_time=datetime.datetime(2007, 6, 18, 15, 0, 50), sub_solar_azimuth=151.717, sub_solar_latitude=-24.7843, sub_solar_longitude=240.613, sub_spacecraft_latitude=-6.1202, sub_spacecraft_longitude=286.115, target_center_distance=3659010.0, target_name='MARS                            ', volume_id='MROHR_0001'), PdsMetadata(instrument='hirise_rdr', corner1_latitude=-6.2446, corner1_longitude=286.156, corner2_latitude=-6.2554, corner2_longitude=286.067, corner3_latitude=-5.9905, corner3_longitude=286.034, corner4_latitude=-5.9797, corner4_longitude=286.123, description='Northwest Candor Mensa                                                     ', emission_angle=0.2771, file_name_specification='RDR/PSP/ORB_004100_004199/PSP_004186_1740/PSP_004186_1740_RED.JP2  ', incidence_angle=47.3439, line_projection_offset=-1417720.0, lines=65355, local_time=15.0321, map_projection_type='EQUIRECTANGULAR    ', map_resolution=237088.0, map_scale=0.25, maximum_latitude=-5.9797, maximum_longitude=286.156, minimum_latitude=-6.2554, minimum_longitude=286.034, mission_phase_name='Primary Science Phase         ', north_azimuth=270.0, observation_id='PSP_004186_1740', observation_start_sclk=866646065.10637, observation_start_time=datetime.datetime(2007, 6, 18, 15, 0, 45), orbit_number=4186, phase_angle=47.5731, product_id='PSP_004186_1740_RED  ', product_version_id='2  ', projection_center_latitude=-5.0, projection_center_longitude=180.0, sample_projection_offset=-25043700.0, samples=28715, sclk_start=866646065.19083, sclk_stop=866646070.19482, slant_distance=263401.0, solar_distance=206878895391.03, solar_longitude=260.004, spacecraft_altitude=263071.0, start_time=datetime.datetime(2007, 6, 18, 15, 0, 45), stereo_flag='YES', stop_time=datetime.datetime(2007, 6, 18, 15, 0, 50), sub_solar_azimuth=151.717, sub_solar_latitude=-24.7843, sub_solar_longitude=240.613, sub_spacecraft_latitude=-6.1202, sub_spacecraft_longitude=286.115, target_center_distance=3659010.0, target_name='MARS                            ', volume_id='MROHR_0001'), PdsMetadata(instrument='hirise_rdr', corner1_latitude=-8.7612, corner1_longitude=200.741, corner2_latitude=-8.7634, corner2_longitude=200.722, corner3_latitude=-8.3151, corner3_longitude=200.669, corner4_latitude=-8.3128, corner4_longitude=200.688, description='Possible stepped delta in crater                                           ', emission_angle=6.0647, file_name_specification='RDR/PSP/ORB_009500_009599/PSP_009595_1715/PSP_009595_1715_COLOR.JP2', incidence_angle=60.8116, line_projection_offset=-985648.0, lines=53416, local_time=15.5359, map_projection_type='EQUIRECTANGULAR    ', map_resolution=118544.0, map_scale=0.5, maximum_latitude=-8.3101, maximum_longitude=200.777, minimum_latitude=-8.7695, minimum_longitude=200.633, mission_phase_name='Primary Science Phase         ', north_azimuth=270.0, observation_id='PSP_009595_1715', observation_start_sclk=903065390.27228, observation_start_time=datetime.datetime(2008, 8, 13, 3, 29, 30), orbit_number=9595, phase_angle=56.2862, product_id='PSP_009595_1715_COLOR', product_version_id='2  ', projection_center_latitude=-5.0, projection_center_longitude=180.0, sample_projection_offset=-2440950.0, samples=8400, sclk_start=903065390.32079, sclk_stop=903065399.03256, slant_distance=267279.0, solar_distance=243115987610.691, solar_longitude=111.957, spacecraft_altitude=265612.0, start_time=datetime.datetime(2008, 8, 13, 3, 29, 30), stereo_flag='NO ', stop_time=datetime.datetime(2008, 8, 13, 3, 29, 38), sub_solar_azimuth=212.573, sub_solar_latitude=23.2531, sub_solar_longitude=147.668, sub_spacecraft_latitude=-8.5994, sub_spacecraft_longitude=200.263, target_center_distance=3658810.0, target_name='MARS                            ', volume_id='MROHR_0001'), PdsMetadata(instrument='hirise_rdr', corner1_latitude=-8.7584, corner1_longitude=200.777, corner2_latitude=-8.7695, corner2_longitude=200.686, corner3_latitude=-8.3211, corner3_longitude=200.633, corner4_latitude=-8.3101, corner4_longitude=200.725, description='Possible stepped delta in crater                                           ', emission_angle=6.0647, file_name_specification='RDR/PSP/ORB_009500_009599/PSP_009595_1715/PSP_009595_1715_RED.JP2  ', incidence_angle=60.8116, line_projection_offset=-985106.0, lines=54461, local_time=15.5359, map_projection_type='EQUIRECTANGULAR    ', map_resolution=118544.0, map_scale=0.5, maximum_latitude=-8.3101, maximum_longitude=200.777, minimum_latitude=-8.7695, minimum_longitude=200.633, mission_phase_name='Primary Science Phase         ', north_azimuth=270.0, observation_id='PSP_009595_1715', observation_start_sclk=903065390.27228, observation_start_time=datetime.datetime(2008, 8, 13, 3, 29, 30), orbit_number=9595, phase_angle=56.2862, product_id='PSP_009595_1715_RED  ', product_version_id='2  ', projection_center_latitude=-5.0, projection_center_longitude=180.0, sample_projection_offset=-2436650.0, samples=16981, sclk_start=903065390.36365, sclk_stop=903065398.63706, slant_distance=267279.0, solar_distance=243115987610.691, solar_longitude=111.957, spacecraft_altitude=265612.0, start_time=datetime.datetime(2008, 8, 13, 3, 29, 30), stereo_flag='NO ', stop_time=datetime.datetime(2008, 8, 13, 3, 29, 38), sub_solar_azimuth=212.573, sub_solar_latitude=23.2531, sub_solar_longitude=147.668, sub_spacecraft_latitude=-8.5994, sub_spacecraft_longitude=200.263, target_center_distance=3658810.0, target_name='MARS                            ', volume_id='MROHR_0001')]\n"
     ]
    }
   ]
  },
  {
   "cell_type": "code",
   "execution_count": 14,
   "metadata": {},
   "outputs": [
    {
     "output_type": "execute_result",
     "data": {
      "text/plain": [
       "[]"
      ]
     },
     "metadata": {},
     "execution_count": 14
    }
   ],
   "source": [
    "random_metadata_items"
   ]
  },
  {
   "cell_type": "code",
   "execution_count": null,
   "metadata": {},
   "outputs": [],
   "source": []
  }
 ],
 "metadata": {
  "kernelspec": {
   "name": "python379jvsc74a57bd084d3a40f50c134738429f841fad1d858446cedbe9c2a038de9a8cecbfc4d1346",
   "display_name": "Python 3.7.9 64-bit ('marsvision': conda)"
  },
  "language_info": {
   "codemirror_mode": {
    "name": "ipython",
    "version": 3
   },
   "file_extension": ".py",
   "mimetype": "text/x-python",
   "name": "python",
   "nbconvert_exporter": "python",
   "pygments_lexer": "ipython3",
   "version": "3.7.9"
  }
 },
 "nbformat": 4,
 "nbformat_minor": 5
}