{
 "cells": [
  {
   "cell_type": "code",
   "execution_count": 1,
   "id": "listed-presence",
   "metadata": {},
   "outputs": [],
   "source": [
    "import pdsc\n",
    "client = pdsc.PdsClient(r\"C:\\Users\\dpale\\Desktop\\Projects\\marsvision\\pdsc\\pdsc_tables\")"
   ]
  },
  {
   "cell_type": "code",
   "execution_count": 2,
   "id": "sharp-opening",
   "metadata": {},
   "outputs": [],
   "source": [
    "metadata = client.query_by_observation_id('hirise_rdr', 'PSP_005423_1780')"
   ]
  },
  {
   "cell_type": "code",
   "execution_count": null,
   "id": "fleet-catalyst",
   "metadata": {},
   "outputs": [],
   "source": []
  }
 ],
 "metadata": {
  "kernelspec": {
   "display_name": "Python 3",
   "language": "python",
   "name": "python3"
  },
  "language_info": {
   "codemirror_mode": {
    "name": "ipython",
    "version": 3
   },
   "file_extension": ".py",
   "mimetype": "text/x-python",
   "name": "python",
   "nbconvert_exporter": "python",
   "pygments_lexer": "ipython3",
   "version": "3.7.9"
  }
 },
 "nbformat": 4,
 "nbformat_minor": 5
}
